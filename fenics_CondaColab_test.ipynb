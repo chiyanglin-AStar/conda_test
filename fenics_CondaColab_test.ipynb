{
  "nbformat": 4,
  "nbformat_minor": 0,
  "metadata": {
    "colab": {
      "provenance": [],
      "include_colab_link": true
    },
    "kernelspec": {
      "display_name": "Python 3",
      "name": "python3"
    },
    "accelerator": "GPU"
  },
  "cells": [
    {
      "cell_type": "markdown",
      "metadata": {
        "id": "view-in-github",
        "colab_type": "text"
      },
      "source": [
        "<a href=\"https://colab.research.google.com/github/chiyanglin-AStar/conda_test/blob/main/fenics_CondaColab_test.ipynb\" target=\"_parent\"><img src=\"https://colab.research.google.com/assets/colab-badge.svg\" alt=\"Open In Colab\"/></a>"
      ]
    },
    {
      "cell_type": "markdown",
      "metadata": {
        "id": "DBzkeuwE5oUV"
      },
      "source": [
        "# Install Conda on Google Colab\n",
        "\n",
        "<!-- By Jaime Rodríguez-Guerra <@jaimergp>. Last modified 2022.08.26 -->\n",
        "\n",
        "`condacolab` simplifies the setup as much as possible, but there are some gotchas.\n",
        "\n",
        "**⚠️ Read this before continuing!**\n",
        "\n",
        "* The `condacolab` commands need to be run as the first Code cell!\n",
        "* Once you run `condacolab.install()`, the Python kernel will be restarted. This is **normal and expected**. After that, you can continue running the cells below like normal.\n",
        "* Do not use the `Run all` option. Run the `condacolab` cell _individually_ and wait for the kernel to restart. **Only then**, you can run all cells if you want.\n",
        "* You can only use the `base` environment. Do not try to create new ones; instead update `base` with either:\n",
        "  * `conda install <packages>`\n",
        "  * `conda env update -n base -f environment.yml`\n",
        "* If you want to use GPUs, make sure you are using such an instance before starting!\n",
        "* If you get an error, please raise an issue [here](https://github.com/jaimergp/condacolab/issues)."
      ]
    },
    {
      "cell_type": "code",
      "metadata": {
        "colab": {
          "base_uri": "https://localhost:8080/"
        },
        "id": "LAZ11nESX6qt",
        "outputId": "c923abf9-50be-4c91-c22f-7a4a380af1cc"
      },
      "source": [
        "!pip install -q condacolab\n",
        "import condacolab\n",
        "condacolab.install()"
      ],
      "execution_count": null,
      "outputs": [
        {
          "output_type": "stream",
          "name": "stdout",
          "text": [
            "✨🍰✨ Everything looks OK!\n"
          ]
        }
      ]
    },
    {
      "cell_type": "code",
      "metadata": {
        "colab": {
          "base_uri": "https://localhost:8080/"
        },
        "id": "wRDyL3hPYAOx",
        "outputId": "a46b8407-f93a-495f-bc0c-3843f16b0200"
      },
      "source": [
        "import condacolab\n",
        "condacolab.check()"
      ],
      "execution_count": null,
      "outputs": [
        {
          "output_type": "stream",
          "name": "stdout",
          "text": [
            "✨🍰✨ Everything looks OK!\n"
          ]
        }
      ]
    },
    {
      "cell_type": "markdown",
      "source": [
        "## fenics conda environment"
      ],
      "metadata": {
        "id": "VnTerRtrup9R"
      }
    },
    {
      "cell_type": "code",
      "metadata": {
        "id": "h0yHSm5m51QT"
      },
      "source": [
        "!conda create -n fenics-env -c conda-forge fenics matplotlib"
      ],
      "execution_count": null,
      "outputs": []
    },
    {
      "cell_type": "markdown",
      "source": [
        "### [run-shell-terminal-in-google-colab](https://stackoverflow.com/questions/59318692/how-can-i-run-shell-terminal-in-google-colab)"
      ],
      "metadata": {
        "id": "URBFKzTHwvGJ"
      }
    },
    {
      "cell_type": "code",
      "source": [
        "!conda init"
      ],
      "metadata": {
        "id": "HojzFuwnvuZI",
        "outputId": "fd56030a-3ac2-4b00-bfa9-cc8875fa7ff4",
        "colab": {
          "base_uri": "https://localhost:8080/"
        }
      },
      "execution_count": null,
      "outputs": [
        {
          "output_type": "stream",
          "name": "stdout",
          "text": [
            "no change     /usr/local/condabin/conda\n",
            "no change     /usr/local/bin/conda\n",
            "no change     /usr/local/bin/conda-env\n",
            "no change     /usr/local/bin/activate\n",
            "no change     /usr/local/bin/deactivate\n",
            "no change     /usr/local/etc/profile.d/conda.sh\n",
            "no change     /usr/local/etc/fish/conf.d/conda.fish\n",
            "no change     /usr/local/shell/condabin/Conda.psm1\n",
            "no change     /usr/local/shell/condabin/conda-hook.ps1\n",
            "no change     /usr/local/lib/python3.10/site-packages/xontrib/conda.xsh\n",
            "no change     /usr/local/etc/profile.d/conda.csh\n",
            "modified      /root/.bashrc\n",
            "\n",
            "==> For changes to take effect, close and re-open your current shell. <==\n",
            "\n"
          ]
        }
      ]
    },
    {
      "cell_type": "code",
      "source": [
        "!bash"
      ],
      "metadata": {
        "id": "E65OJujcwVvf",
        "outputId": "7932ec97-12f3-4128-8fa3-8549466b4c3a",
        "colab": {
          "base_uri": "https://localhost:8080/"
        }
      },
      "execution_count": null,
      "outputs": [
        {
          "output_type": "stream",
          "name": "stdout",
          "text": [
            "bash: cannot set terminal process group (758): Inappropriate ioctl for device\n",
            "bash: no job control in this shell\n",
            "\u001b[?2004h(base) \u001b[01;34m/content\u001b[00m# conda activate fenics-env\n",
            "\u001b[?2004h\u001b[?2004l\n",
            "\u001b[?2004h\u001b[?2004l\n",
            "\u001b[?2004h\u001b[?2004l\n",
            "\u001b[?2004h(fenics-env) \u001b[01;34m/content\u001b[00m# ^C\n"
          ]
        }
      ]
    },
    {
      "cell_type": "code",
      "source": [
        "!conda activate fenics-env"
      ],
      "metadata": {
        "id": "VNy-Vk-Nvqha",
        "outputId": "5ad3f259-43d8-492f-8d0a-4225b54a60ef",
        "colab": {
          "base_uri": "https://localhost:8080/"
        }
      },
      "execution_count": null,
      "outputs": [
        {
          "output_type": "stream",
          "name": "stdout",
          "text": [
            "\n",
            "CondaError: Run 'conda init' before 'conda activate'\n",
            "\n"
          ]
        }
      ]
    },
    {
      "cell_type": "code",
      "source": [
        "import matplotlib.pyplot as plt\n",
        "import pandas as pd\n",
        "import fenics as fe\n",
        "\n",
        "\n",
        "print(\"panda verion:\",pd.__version__)\n",
        "#print(\"fenics version:\",fenics.__version__)\n",
        "print(\"fenics function list :\",dir(fe))"
      ],
      "metadata": {
        "id": "nmaFkh3sxjJg"
      },
      "execution_count": null,
      "outputs": []
    },
    {
      "cell_type": "code",
      "source": [
        "from fenics import *\n",
        "\n",
        "# Create mesh and define function space\n",
        "nx = 32\n",
        "mesh = UnitIntervalMesh(nx)\n",
        "V = FunctionSpace(mesh, \"P\", 1)\n",
        "\n",
        "# Define boundary condition\n",
        "u_D = Expression(\"1 + x[0]*x[0]\", degree=2)\n",
        "bc = DirichletBC(V, u_D, \"on_boundary\")\n",
        "\n",
        "# Define problem\n",
        "u = TrialFunction(V)\n",
        "v = TestFunction(V)\n",
        "f = Constant(-6.0)\n",
        "a = dot(grad(u), grad(v)) * dx\n",
        "L = f * v * dx\n",
        "\n",
        "# Solve\n",
        "u = Function(V)\n",
        "solve(a == L, u, bc)\n",
        "\n",
        "# Plot solution\n",
        "import matplotlib.pyplot as plt\n",
        "plot(u)\n",
        "plt.title(\"Solution of Poisson Equation (FEM)\")\n",
        "plt.show()"
      ],
      "metadata": {
        "id": "-Dlhk2X9xSHZ"
      },
      "execution_count": null,
      "outputs": []
    }
  ]
}