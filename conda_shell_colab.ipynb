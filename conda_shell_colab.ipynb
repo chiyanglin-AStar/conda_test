{
  "cells": [
    {
      "cell_type": "markdown",
      "metadata": {
        "id": "view-in-github",
        "colab_type": "text"
      },
      "source": [
        "<a href=\"https://colab.research.google.com/github/chiyanglin-AStar/conda_test/blob/main/conda_shell_colab.ipynb\" target=\"_parent\"><img src=\"https://colab.research.google.com/assets/colab-badge.svg\" alt=\"Open In Colab\"/></a>"
      ]
    },
    {
      "cell_type": "markdown",
      "source": [
        "## Using shell commands in notebooks\n",
        "ref from [url](https://colab.research.google.com/drive/10En8pxjHhUhFDrXcLp-EenYKnVPZ1ZWy?usp=sharing#scrollTo=mL-vUKabfNbE)"
      ],
      "metadata": {
        "id": "w80E34BPONKn"
      },
      "id": "w80E34BPONKn"
    },
    {
      "cell_type": "code",
      "source": [
        "# This is how to run single commands:\n",
        "!echo \"hellow world!\""
      ],
      "metadata": {
        "id": "pKS37SLFOWeL"
      },
      "id": "pKS37SLFOWeL",
      "execution_count": null,
      "outputs": []
    },
    {
      "cell_type": "code",
      "source": [
        "# However, that won't work if for example you want to run multiple commands that talk to each other, since each command is executed in a separate process:\n",
        "!export RAND=42\n",
        "!echo $RAND #Nothing is printed, since RAND was defined in a separate process which has already exited"
      ],
      "metadata": {
        "id": "KilX4tuQOiOF"
      },
      "id": "KilX4tuQOiOF",
      "execution_count": null,
      "outputs": []
    },
    {
      "cell_type": "code",
      "source": [
        "%%bash\n",
        "# But, if your notebook code cell starts with %%bash, it's all executed as one script!\n",
        "export RAND=42\n",
        "echo $RAND"
      ],
      "metadata": {
        "id": "kpHdodSIOmc4"
      },
      "id": "kpHdodSIOmc4",
      "execution_count": null,
      "outputs": []
    },
    {
      "cell_type": "code",
      "source": [
        "# You can also pass python variables into your shell commands, and vise versa!\n",
        "python_var = [\"R2\", \"D2\"]\n",
        "!echo $python_var\n",
        "\n",
        "output_of_ls_as_python_var = !ls -a\n",
        "print(output_of_ls_as_python_var)"
      ],
      "metadata": {
        "id": "7_qbcTNuOtVm"
      },
      "id": "7_qbcTNuOtVm",
      "execution_count": null,
      "outputs": []
    },
    {
      "cell_type": "code",
      "source": [
        "import os\n",
        "os.system(\"pip list > file.txt\")"
      ],
      "metadata": {
        "id": "SLsV0KQvPTVl"
      },
      "id": "SLsV0KQvPTVl",
      "execution_count": null,
      "outputs": []
    },
    {
      "cell_type": "code",
      "source": [
        "import os\n",
        "with open(\"file.txt\",\"r\") as file:\n",
        "    print(file.read())"
      ],
      "metadata": {
        "id": "2Pq0ZEn0PXSf"
      },
      "id": "2Pq0ZEn0PXSf",
      "execution_count": null,
      "outputs": []
    },
    {
      "cell_type": "markdown",
      "source": [
        "## IPython Magic Commands"
      ],
      "metadata": {
        "id": "2lid3QB0QOGx"
      },
      "id": "2lid3QB0QOGx"
    },
    {
      "cell_type": "markdown",
      "source": [
        "ref from\n",
        "\n",
        "[url](https://colab.research.google.com/github/jdwittenauer/ipython-notebooks/blob/master/notebooks/language/IPythonMagic.ipynb#scrollTo=acasv1Y0Pqle)\n",
        "\n",
        "[url2](https://colab.research.google.com/github/jakevdp/PythonDataScienceHandbook/blob/master/notebooks/01.03-Magic-Commands.ipynb)\n",
        "\n",
        "[Google Colab - Magics](https://www.tutorialspoint.com/google_colab/google_colab_magics.htm)\n",
        "\n",
        "\n",
        "[Built-in magic commands](https://ipython.readthedocs.io/en/stable/interactive/magics.html#built-in-magic-commands)\n",
        "\n",
        "\n",
        "IPython has a system of commands we call 'magics' that provide effectively a mini command language that is orthogonal to the syntax of Python and is extensible by the user with new commands. Magics are meant to be typed interactively, so they use command-line conventions, such as using whitespace for separating arguments, dashes for options and other conventions typical of a command-line environment.\n",
        "\n",
        "Magics come in two kinds:\n",
        "\n",
        "Line magics: these are commands prepended by one % character and whose arguments only extend to the end of the current line.\n",
        "\n",
        "Cell magics: these use two percent characters as a marker (%%), and they receive as argument both the current line where they are declared and the whole body of the cell."
      ],
      "metadata": {
        "id": "Bz3PEGmZQfVg"
      },
      "id": "Bz3PEGmZQfVg"
    },
    {
      "cell_type": "code",
      "source": [
        "# brings up a documentation pane with an overview of IPython's feature\n",
        "?"
      ],
      "metadata": {
        "id": "JDqrDEb2QbBo"
      },
      "id": "JDqrDEb2QbBo",
      "execution_count": null,
      "outputs": []
    },
    {
      "cell_type": "code",
      "source": [
        "# quick reference guide\n",
        "%quickref"
      ],
      "metadata": {
        "id": "ogdj6J-aRgEH"
      },
      "id": "ogdj6J-aRgEH",
      "execution_count": null,
      "outputs": []
    },
    {
      "cell_type": "code",
      "source": [
        "# use the ! operator to run system shell commands\n",
        "!ping www.google.com"
      ],
      "metadata": {
        "id": "DM_bkwWCRlPP",
        "outputId": "94a5d80d-d3d3-4ea6-e80f-2ae99c5510c9",
        "colab": {
          "base_uri": "https://localhost:8080/"
        }
      },
      "id": "DM_bkwWCRlPP",
      "execution_count": null,
      "outputs": [
        {
          "output_type": "stream",
          "name": "stdout",
          "text": [
            "/bin/bash: line 1: ping: command not found\n"
          ]
        }
      ]
    },
    {
      "cell_type": "code",
      "source": [
        "# help module for magic commands\n",
        "%magic"
      ],
      "metadata": {
        "id": "KyiMuu0OR-cN"
      },
      "id": "KyiMuu0OR-cN",
      "execution_count": null,
      "outputs": []
    },
    {
      "cell_type": "code",
      "source": [
        "# list of all available magic commands\n",
        "%lsmagic"
      ],
      "metadata": {
        "id": "P42050ZZSQwg",
        "outputId": "2d472147-d13d-4643-8446-6fc8e78a13e7",
        "colab": {
          "base_uri": "https://localhost:8080/",
          "height": 243
        }
      },
      "id": "P42050ZZSQwg",
      "execution_count": null,
      "outputs": [
        {
          "output_type": "execute_result",
          "data": {
            "text/plain": [
              "Available line magics:\n",
              "%alias  %alias_magic  %autoawait  %autocall  %automagic  %autosave  %bookmark  %cat  %cd  %clear  %colors  %conda  %config  %connect_info  %cp  %debug  %dhist  %dirs  %doctest_mode  %ed  %edit  %env  %gui  %hist  %history  %killbgscripts  %ldir  %less  %lf  %lk  %ll  %load  %load_ext  %loadpy  %logoff  %logon  %logstart  %logstate  %logstop  %ls  %lsmagic  %lx  %macro  %magic  %man  %matplotlib  %mkdir  %more  %mv  %notebook  %page  %pastebin  %pdb  %pdef  %pdoc  %pfile  %pinfo  %pinfo2  %pip  %popd  %pprint  %precision  %prun  %psearch  %psource  %pushd  %pwd  %pycat  %pylab  %qtconsole  %quickref  %recall  %rehashx  %reload_ext  %rep  %rerun  %reset  %reset_selective  %rm  %rmdir  %run  %save  %sc  %set_env  %shell  %store  %sx  %system  %tb  %tensorflow_version  %time  %timeit  %unalias  %unload_ext  %who  %who_ls  %whos  %xdel  %xmode\n",
              "\n",
              "Available cell magics:\n",
              "%%!  %%HTML  %%SVG  %%bash  %%bigquery  %%capture  %%debug  %%file  %%html  %%javascript  %%js  %%latex  %%markdown  %%perl  %%prun  %%pypy  %%python  %%python2  %%python3  %%ruby  %%script  %%sh  %%shell  %%svg  %%sx  %%system  %%time  %%timeit  %%writefile\n",
              "\n",
              "Automagic is ON, % prefix IS NOT needed for line magics."
            ],
            "application/json": {
              "line": {
                "automagic": "AutoMagics",
                "autocall": "AutoMagics",
                "alias_magic": "BasicMagics",
                "lsmagic": "BasicMagics",
                "magic": "BasicMagics",
                "page": "BasicMagics",
                "pprint": "BasicMagics",
                "colors": "BasicMagics",
                "xmode": "BasicMagics",
                "quickref": "BasicMagics",
                "doctest_mode": "BasicMagics",
                "gui": "BasicMagics",
                "precision": "BasicMagics",
                "notebook": "BasicMagics",
                "save": "CodeMagics",
                "pastebin": "CodeMagics",
                "loadpy": "CodeMagics",
                "load": "CodeMagics",
                "edit": "KernelMagics",
                "config": "ConfigMagics",
                "prun": "ExecutionMagics",
                "pdb": "ExecutionMagics",
                "debug": "ExecutionMagics",
                "tb": "ExecutionMagics",
                "run": "ExecutionMagics",
                "timeit": "ExecutionMagics",
                "time": "ExecutionMagics",
                "macro": "ExecutionMagics",
                "load_ext": "ExtensionMagics",
                "unload_ext": "ExtensionMagics",
                "reload_ext": "ExtensionMagics",
                "history": "HistoryMagics",
                "recall": "HistoryMagics",
                "rerun": "HistoryMagics",
                "logstart": "LoggingMagics",
                "logstop": "LoggingMagics",
                "logoff": "LoggingMagics",
                "logon": "LoggingMagics",
                "logstate": "LoggingMagics",
                "pinfo": "NamespaceMagics",
                "pinfo2": "NamespaceMagics",
                "pdef": "NamespaceMagics",
                "pdoc": "NamespaceMagics",
                "psource": "NamespaceMagics",
                "pfile": "NamespaceMagics",
                "psearch": "NamespaceMagics",
                "who_ls": "NamespaceMagics",
                "who": "NamespaceMagics",
                "whos": "NamespaceMagics",
                "reset": "NamespaceMagics",
                "reset_selective": "NamespaceMagics",
                "xdel": "NamespaceMagics",
                "alias": "OSMagics",
                "unalias": "OSMagics",
                "rehashx": "OSMagics",
                "pwd": "OSMagics",
                "cd": "OSMagics",
                "env": "OSMagics",
                "set_env": "OSMagics",
                "pushd": "OSMagics",
                "popd": "OSMagics",
                "dirs": "OSMagics",
                "dhist": "OSMagics",
                "sc": "OSMagics",
                "sx": "OSMagics",
                "system": "OSMagics",
                "bookmark": "OSMagics",
                "pycat": "OSMagics",
                "pip": "Other",
                "conda": "PackagingMagics",
                "matplotlib": "PylabMagics",
                "pylab": "PylabMagics",
                "killbgscripts": "ScriptMagics",
                "autoawait": "AsyncMagics",
                "ed": "Other",
                "hist": "Other",
                "rep": "Other",
                "clear": "KernelMagics",
                "less": "KernelMagics",
                "more": "KernelMagics",
                "man": "KernelMagics",
                "connect_info": "KernelMagics",
                "qtconsole": "KernelMagics",
                "autosave": "KernelMagics",
                "mkdir": "Other",
                "rmdir": "Other",
                "mv": "Other",
                "rm": "Other",
                "cp": "Other",
                "cat": "Other",
                "ls": "Other",
                "ll": "Other",
                "lf": "Other",
                "lk": "Other",
                "ldir": "Other",
                "lx": "Other",
                "store": "StoreMagics",
                "shell": "Other",
                "tensorflow_version": "Other"
              },
              "cell": {
                "js": "DisplayMagics",
                "javascript": "DisplayMagics",
                "latex": "DisplayMagics",
                "svg": "DisplayMagics",
                "html": "DisplayMagics",
                "markdown": "DisplayMagics",
                "prun": "ExecutionMagics",
                "debug": "ExecutionMagics",
                "timeit": "ExecutionMagics",
                "time": "ExecutionMagics",
                "capture": "ExecutionMagics",
                "sx": "OSMagics",
                "system": "OSMagics",
                "!": "OSMagics",
                "writefile": "OSMagics",
                "script": "ScriptMagics",
                "sh": "Other",
                "bash": "Other",
                "perl": "Other",
                "ruby": "Other",
                "python": "Other",
                "python2": "Other",
                "python3": "Other",
                "pypy": "Other",
                "SVG": "Other",
                "HTML": "Other",
                "file": "Other",
                "bigquery": "Other",
                "shell": "Other"
              }
            }
          },
          "metadata": {},
          "execution_count": 5
        }
      ]
    },
    {
      "cell_type": "code",
      "source": [
        "# bring up the help module for a specific command\n",
        "%timeit?"
      ],
      "metadata": {
        "id": "mbpMx0tYSW6G"
      },
      "id": "mbpMx0tYSW6G",
      "execution_count": null,
      "outputs": []
    },
    {
      "cell_type": "code",
      "source": [
        "# the ? syntax also works for any generic object\n",
        "x = 5\n",
        "x?"
      ],
      "metadata": {
        "id": "GhYD0R_5SlFl"
      },
      "id": "GhYD0R_5SlFl",
      "execution_count": null,
      "outputs": []
    },
    {
      "cell_type": "code",
      "source": [
        "# run a python script from within the notebook\n",
        "%run scripts/hello"
      ],
      "metadata": {
        "id": "Y6oSxRfMSowj"
      },
      "id": "Y6oSxRfMSowj",
      "execution_count": null,
      "outputs": []
    },
    {
      "cell_type": "code",
      "source": [
        "# debug a statement either in-line or after the fact\n",
        "%debug"
      ],
      "metadata": {
        "id": "8oLFEy9fSw1o"
      },
      "id": "8oLFEy9fSw1o",
      "execution_count": null,
      "outputs": []
    },
    {
      "cell_type": "code",
      "source": [
        "# time the execution of a statement\n",
        "import numpy as np\n",
        "%timeit np.linalg.eigvals(np.random.rand(100,100))"
      ],
      "metadata": {
        "id": "T43ls8vWS2Nj",
        "outputId": "52776259-9054-4998-d693-ed40d10015de",
        "colab": {
          "base_uri": "https://localhost:8080/"
        }
      },
      "id": "T43ls8vWS2Nj",
      "execution_count": null,
      "outputs": [
        {
          "output_type": "stream",
          "name": "stdout",
          "text": [
            "10 ms ± 136 µs per loop (mean ± std. dev. of 7 runs, 100 loops each)\n"
          ]
        }
      ]
    },
    {
      "cell_type": "code",
      "source": [
        "# additional magic can be loaded using load_ext\n",
        "%load_ext Cython"
      ],
      "metadata": {
        "id": "koxIBns4S663"
      },
      "id": "koxIBns4S663",
      "execution_count": null,
      "outputs": []
    },
    {
      "cell_type": "code",
      "source": [
        "# list all environment variables or specific variables\n",
        "%env SYSTEMROOT"
      ],
      "metadata": {
        "id": "l4g0vXzNS_Bu",
        "outputId": "f3153174-c405-4575-f7ed-a9d9ff3a3416",
        "colab": {
          "base_uri": "https://localhost:8080/"
        }
      },
      "id": "l4g0vXzNS_Bu",
      "execution_count": null,
      "outputs": [
        {
          "output_type": "stream",
          "name": "stderr",
          "text": [
            "UsageError: Environment does not have key: SYSTEMROOT\n"
          ]
        }
      ]
    },
    {
      "cell_type": "code",
      "source": [
        "# print the cache of previously executed commands\n",
        "%history"
      ],
      "metadata": {
        "id": "RzeqiL06TDw4",
        "outputId": "914b361c-758c-42f8-a7ea-36ef01f7a118",
        "colab": {
          "base_uri": "https://localhost:8080/"
        }
      },
      "id": "RzeqiL06TDw4",
      "execution_count": null,
      "outputs": [
        {
          "output_type": "stream",
          "name": "stdout",
          "text": [
            "# brings up a documentation pane with an overview of IPython's feature\n",
            "?\n",
            "# quick reference guide\n",
            "%quickref\n",
            "# use the ! operator to run system shell commands\n",
            "!ping www.google.com\n",
            "# help module for magic commands\n",
            "%magic\n",
            "# list of all available magic commands\n",
            "%lsmagic\n",
            "# bring up the help module for a specific command\n",
            "%timeit?\n",
            "# the ? syntax also works for any generic object\n",
            "x = 5\n",
            "x?\n",
            "# run a python script from within the notebook\n",
            "%run scripts/hello\n",
            "# debug a statement either in-line or after the fact\n",
            "%debug\n",
            "# time the execution of a statement\n",
            "import numpy as np\n",
            "%timeit np.linalg.eigvals(np.random.rand(100,100))\n",
            "# additional magic can be loaded using load_ext\n",
            "%load_ext Cython\n",
            "# list all environment variables or specific variables\n",
            "%env SYSTEMROOT\n",
            "# print the cache of previously executed commands\n",
            "%history\n"
          ]
        }
      ]
    },
    {
      "cell_type": "code",
      "source": [
        "# set matplotlib to inline or interactive (qt) mode\n",
        "%matplotlib inline"
      ],
      "metadata": {
        "id": "WvVtjxOWTKJ6"
      },
      "id": "WvVtjxOWTKJ6",
      "execution_count": null,
      "outputs": []
    },
    {
      "cell_type": "code",
      "source": [
        "# print the call signature for any object\n",
        "import urllib\n",
        "%pdef urllib.urlopen"
      ],
      "metadata": {
        "id": "Ghw3fb9WTP2o",
        "outputId": "4d6cd5c7-fd21-4e2d-be2f-dbc1744de333",
        "colab": {
          "base_uri": "https://localhost:8080/"
        }
      },
      "id": "Ghw3fb9WTP2o",
      "execution_count": null,
      "outputs": [
        {
          "output_type": "stream",
          "name": "stdout",
          "text": [
            "Object `urllib.urlopen` not found.\n"
          ]
        }
      ]
    },
    {
      "cell_type": "code",
      "source": [
        "# print the docstring for a class/callable object\n",
        "%pdoc urllib"
      ],
      "metadata": {
        "id": "qTRGHzhaTY9V",
        "outputId": "234aa74f-2596-44ba-e399-d1263ac0fb10",
        "colab": {
          "base_uri": "https://localhost:8080/"
        }
      },
      "id": "qTRGHzhaTY9V",
      "execution_count": null,
      "outputs": [
        {
          "output_type": "stream",
          "name": "stdout",
          "text": [
            "No documentation found for urllib\n"
          ]
        }
      ]
    },
    {
      "cell_type": "code",
      "source": [
        "# print all interactive variables\n",
        "%who"
      ],
      "metadata": {
        "id": "RfJNyDErTdnO",
        "outputId": "590e72a8-3f82-4fd4-c945-9f2458f14474",
        "colab": {
          "base_uri": "https://localhost:8080/"
        }
      },
      "id": "RfJNyDErTdnO",
      "execution_count": null,
      "outputs": [
        {
          "output_type": "stream",
          "name": "stdout",
          "text": [
            "np\t urllib\t x\t \n"
          ]
        }
      ]
    },
    {
      "cell_type": "code",
      "source": [
        "# same as who but more information\n",
        "%whos"
      ],
      "metadata": {
        "id": "PB9Z4xDeTkAo",
        "outputId": "64299b4e-04ae-4ffc-ceb7-30d0965698d5",
        "colab": {
          "base_uri": "https://localhost:8080/"
        }
      },
      "id": "PB9Z4xDeTkAo",
      "execution_count": null,
      "outputs": [
        {
          "output_type": "stream",
          "name": "stdout",
          "text": [
            "Variable   Type      Data/Info\n",
            "------------------------------\n",
            "np         module    <module 'numpy' from '/us<...>kages/numpy/__init__.py'>\n",
            "urllib     module    <module 'urllib' from '/u<...>3.10/urllib/__init__.py'>\n",
            "x          int       5\n"
          ]
        }
      ]
    },
    {
      "cell_type": "code",
      "source": [
        "# example using cProfile\n",
        "import matplotlib.pyplot as plt\n",
        "\n",
        "def f(x):\n",
        "    return x**3 - 1\n",
        "\n",
        "def fprime(x):\n",
        "    return 3*x**2\n",
        "\n",
        "def newton(z, f, fprime, max_iter=100, tol=1e-6):\n",
        "    \"\"\"The Newton-Raphson method.\"\"\"\n",
        "    for i in range(max_iter):\n",
        "        step = f(z)/fprime(z)\n",
        "        if abs(step) < tol:\n",
        "            return i, z\n",
        "        z -= step\n",
        "    return i, z\n",
        "\n",
        "def plot_newton_iters(p, pprime, n=200, extent=[-1,1,-1,1], cmap='hsv'):\n",
        "    \"\"\"Shows how long it takes to converge to a root using the Newton-Raphson method.\"\"\"\n",
        "    m = np.zeros((n,n))\n",
        "    xmin, xmax, ymin, ymax = extent\n",
        "    for r, x in enumerate(np.linspace(xmin, xmax, n)):\n",
        "        for s, y in enumerate(np.linspace(ymin, ymax, n)):\n",
        "            z = x + y*1j\n",
        "            m[s, r] = newton(z, p, pprime)[0]\n",
        "    plt.imshow(m, cmap=cmap, extent=extent)\n",
        "\n",
        "stats = %prun -r -q plot_newton_iters(f, fprime)"
      ],
      "metadata": {
        "id": "FEt5P2-ETyc9",
        "outputId": "6db403e1-237e-42c6-a68b-b91817f1384a",
        "colab": {
          "base_uri": "https://localhost:8080/",
          "height": 452
        }
      },
      "id": "FEt5P2-ETyc9",
      "execution_count": null,
      "outputs": [
        {
          "output_type": "stream",
          "name": "stdout",
          "text": [
            " "
          ]
        },
        {
          "output_type": "display_data",
          "data": {
            "text/plain": [
              "<Figure size 640x480 with 1 Axes>"
            ],
            "image/png": "[encoded data removed]"
          },
          "metadata": {}
        }
      ]
    },
    {
      "cell_type": "code",
      "source": [
        "stats.sort_stats('time').print_stats(10)"
      ],
      "metadata": {
        "id": "9Sdl868iT9Q0",
        "outputId": "6467db0d-7b8d-4fac-ecbd-0b8de77097e0",
        "colab": {
          "base_uri": "https://localhost:8080/"
        }
      },
      "id": "9Sdl868iT9Q0",
      "execution_count": null,
      "outputs": [
        {
          "output_type": "stream",
          "name": "stdout",
          "text": [
            "         1039331 function calls (1039071 primitive calls) in 0.708 seconds\n",
            "\n",
            "   Ordered by: internal time\n",
            "   List reduced from 725 to 10 due to restriction <10>\n",
            "\n",
            "   ncalls  tottime  percall  cumtime  percall filename:lineno(function)\n",
            "    40000    0.277    0.000    0.524    0.000 <ipython-input-19-4ee3f425aa64>:10(newton)\n",
            "        1    0.136    0.136    0.708    0.708 <ipython-input-19-4ee3f425aa64>:19(plot_newton_iters)\n",
            "   324388    0.105    0.000    0.105    0.000 <ipython-input-19-4ee3f425aa64>:4(f)\n",
            "   324388    0.100    0.000    0.100    0.000 <ipython-input-19-4ee3f425aa64>:7(fprime)\n",
            "   324506    0.043    0.000    0.043    0.000 {built-in method builtins.abs}\n",
            "      201    0.009    0.000    0.013    0.000 function_base.py:24(linspace)\n",
            "       12    0.003    0.000    0.003    0.000 _base.py:3569(_validate_converted_limits)\n",
            "        1    0.002    0.002    0.002    0.002 {built-in method posix.stat}\n",
            "      201    0.002    0.000    0.002    0.000 {built-in method numpy.arange}\n",
            "      149    0.001    0.000    0.004    0.000 artist.py:1176(_update_props)\n",
            "\n",
            "\n"
          ]
        },
        {
          "output_type": "execute_result",
          "data": {
            "text/plain": [
              "<pstats.Stats at 0x7942ec0aeef0>"
            ]
          },
          "metadata": {},
          "execution_count": 20
        }
      ]
    },
    {
      "cell_type": "code",
      "source": [
        "# reset the namespace\n",
        "%reset"
      ],
      "metadata": {
        "id": "UfKiK-5xUCsA",
        "outputId": "ade825f5-4c16-4660-812b-8ed817a02215",
        "colab": {
          "base_uri": "https://localhost:8080/"
        }
      },
      "id": "UfKiK-5xUCsA",
      "execution_count": null,
      "outputs": [
        {
          "output_type": "stream",
          "name": "stdout",
          "text": [
            "Once deleted, variables cannot be recovered. Proceed (y/[n])? n\n",
            "Nothing done.\n"
          ]
        }
      ]
    },
    {
      "cell_type": "markdown",
      "source": [
        "## write file in colab\n",
        "\n",
        "```\n",
        "%%writefile ./win/dosa_bce_win.py\n",
        "print(\"Hello\")\n",
        "\n",
        "```"
      ],
      "metadata": {
        "id": "1JFa-mEdeHVk"
      },
      "id": "1JFa-mEdeHVk"
    },
    {
      "cell_type": "code",
      "source": [
        "!ls"
      ],
      "metadata": {
        "id": "0qhvS7tOj3UU",
        "outputId": "ae62c2af-6f5f-4015-af1f-36e41cf2abc3",
        "colab": {
          "base_uri": "https://localhost:8080/"
        }
      },
      "id": "0qhvS7tOj3UU",
      "execution_count": 7,
      "outputs": [
        {
          "output_type": "stream",
          "name": "stdout",
          "text": [
            "hello_colab.py\tsample_data\n"
          ]
        }
      ]
    },
    {
      "cell_type": "code",
      "source": [
        "%%writefile ./hello_colab.py\n",
        "print(\"Hello from colab\")"
      ],
      "metadata": {
        "id": "-4malOoRj5U9",
        "outputId": "37f265c9-b6a7-4de0-f2d2-ae3775b3b417",
        "colab": {
          "base_uri": "https://localhost:8080/"
        }
      },
      "id": "-4malOoRj5U9",
      "execution_count": 8,
      "outputs": [
        {
          "output_type": "stream",
          "name": "stdout",
          "text": [
            "Overwriting ./hello_colab.py\n"
          ]
        }
      ]
    },
    {
      "cell_type": "code",
      "source": [
        "!ls"
      ],
      "metadata": {
        "id": "Yjf52IUEkGWE",
        "outputId": "4221302d-4de7-4ec9-9a84-fa7de541f19d",
        "colab": {
          "base_uri": "https://localhost:8080/"
        }
      },
      "id": "Yjf52IUEkGWE",
      "execution_count": 9,
      "outputs": [
        {
          "output_type": "stream",
          "name": "stdout",
          "text": [
            "hello_colab.py\tsample_data\n"
          ]
        }
      ]
    },
    {
      "cell_type": "code",
      "source": [
        "!cat hello_colab.py"
      ],
      "metadata": {
        "id": "hJa4oWlikIzy",
        "outputId": "c08ee37f-5e20-4d2f-9690-b7d864f2f760",
        "colab": {
          "base_uri": "https://localhost:8080/"
        }
      },
      "id": "hJa4oWlikIzy",
      "execution_count": 10,
      "outputs": [
        {
          "output_type": "stream",
          "name": "stdout",
          "text": [
            "print(\"Hello from colab\")\n"
          ]
        }
      ]
    },
    {
      "cell_type": "code",
      "source": [
        "!python hello_colab.py"
      ],
      "metadata": {
        "id": "vsc9Us4IkPAS",
        "outputId": "b17ce255-7c92-42e9-8443-b96ffb7a9fc7",
        "colab": {
          "base_uri": "https://localhost:8080/"
        }
      },
      "id": "vsc9Us4IkPAS",
      "execution_count": 11,
      "outputs": [
        {
          "output_type": "stream",
          "name": "stdout",
          "text": [
            "Hello from colab\n"
          ]
        }
      ]
    },
    {
      "cell_type": "markdown",
      "source": [
        "## Running External Code: %run\n",
        "As you begin developing more extensive code, you will likely find yourself working in IPython for interactive exploration, as well as a text editor to store code that you want to reuse.\n",
        "Rather than running this code in a new window, it can be convenient to run it within your IPython session.\n",
        "This can be done with the `%run` magic command.\n",
        "\n",
        "For example, imagine you've created a *myscript.py* file with the following contents:\n",
        "\n",
        "```python\n",
        "# file: myscript.py\n",
        "\n",
        "def square(x):\n",
        "    \"\"\"square a number\"\"\"\n",
        "    return x ** 2\n",
        "\n",
        "for N in range(1, 4):\n",
        "    print(f\"{N} squared is {square(N)}\")\n",
        "```\n",
        "\n",
        "You can execute this from your IPython session as follows:\n",
        "\n",
        "```ipython\n",
        "In [6]: %run myscript.py\n",
        "1 squared is 1\n",
        "2 squared is 4\n",
        "3 squared is 9\n",
        "```\n",
        "\n",
        "Note also that after you've run this script, any functions defined within it are available for use in your IPython session:\n",
        "\n",
        "```ipython\n",
        "In [7]: square(5)\n",
        "Out[7]: 25\n",
        "```\n",
        "\n",
        "There are several options to fine-tune how your code is run; you can see the documentation in the normal way, by typing **`%run?`** in the IPython interpreter."
      ],
      "metadata": {
        "id": "1UuMCR6LWa5g"
      },
      "id": "1UuMCR6LWa5g"
    },
    {
      "cell_type": "markdown",
      "source": [
        "## write file in colab\n",
        "ref from [url](https://github.com/googlecolab/colabtools/issues/865)\n",
        "\n",
        "```\n",
        "from google.colab import drive\n",
        "drive.mount('/content/drive')\n",
        "\n",
        "# open existing text file\n",
        "with open('/content/drive/My Drive/Sandbox/Sandbox.txt’) as f:\n",
        "  print(f.read())\n",
        "\n",
        "# make new JSON file\n",
        "with open('/content/drive/My Drive/Sandbox/Sandbox_2.json', 'w') as f:\n",
        "  f.write('{\"hello\":true}')\n",
        "\n",
        "%%writefile ./win/dosa_bce_win.py\n",
        "print(\"Hello\")\n",
        "\n",
        "```"
      ],
      "metadata": {
        "id": "Jskrtauxgngw"
      },
      "id": "Jskrtauxgngw"
    },
    {
      "cell_type": "code",
      "source": [
        "!ls"
      ],
      "metadata": {
        "id": "b-zBhBV6gtKI",
        "outputId": "db10c5c5-8f06-42b1-b7a2-764422188359",
        "colab": {
          "base_uri": "https://localhost:8080/"
        }
      },
      "id": "b-zBhBV6gtKI",
      "execution_count": null,
      "outputs": [
        {
          "output_type": "stream",
          "name": "stdout",
          "text": [
            "sample_data\n"
          ]
        }
      ]
    },
    {
      "cell_type": "code",
      "source": [
        "%%writefile ./hello_colab.py\n",
        "print(\"Hello from colab\")"
      ],
      "metadata": {
        "id": "h7n5tO7shpUl",
        "outputId": "2b806687-36fd-4ec9-ea12-9105aa3108a6",
        "colab": {
          "base_uri": "https://localhost:8080/"
        }
      },
      "id": "h7n5tO7shpUl",
      "execution_count": null,
      "outputs": [
        {
          "output_type": "stream",
          "name": "stdout",
          "text": [
            "Writing ./hello_colab.py\n"
          ]
        }
      ]
    },
    {
      "cell_type": "code",
      "source": [
        "!ls"
      ],
      "metadata": {
        "id": "iSLRrLKsh6uj",
        "outputId": "6a37b573-4ad9-4986-a989-295a14c48993",
        "colab": {
          "base_uri": "https://localhost:8080/"
        }
      },
      "id": "iSLRrLKsh6uj",
      "execution_count": null,
      "outputs": [
        {
          "output_type": "stream",
          "name": "stdout",
          "text": [
            "hello_colab.py\tsample_data\n"
          ]
        }
      ]
    },
    {
      "cell_type": "code",
      "source": [
        "!cat hello_colab.py"
      ],
      "metadata": {
        "id": "5UPqQJb5iadc",
        "outputId": "92ff4178-bb1d-4d9f-ce20-0b208d85c1b4",
        "colab": {
          "base_uri": "https://localhost:8080/"
        }
      },
      "id": "5UPqQJb5iadc",
      "execution_count": null,
      "outputs": [
        {
          "output_type": "stream",
          "name": "stdout",
          "text": [
            "print(\"Hello from colab\")\n"
          ]
        }
      ]
    },
    {
      "cell_type": "code",
      "source": [
        "!python hello_colab.py"
      ],
      "metadata": {
        "id": "ef0dF-WHib61",
        "outputId": "273ccf04-673c-43a4-f262-4b2c5a1847de",
        "colab": {
          "base_uri": "https://localhost:8080/"
        }
      },
      "id": "ef0dF-WHib61",
      "execution_count": null,
      "outputs": [
        {
          "output_type": "stream",
          "name": "stdout",
          "text": [
            "Hello from colab\n"
          ]
        }
      ]
    },
    {
      "cell_type": "markdown",
      "source": [
        "# Using `conda`\n",
        "\n",
        "To help you with your deployment either via PyPi, Binder or handing over a local python package it is a good idea to improve your `conda` package manager skills and working with conda virtual environments.  \n",
        "\n",
        "> If you are working on a Windows OS I recommend running these commands from Anaconda prompt.  If you are working on a Mac or a Linux machine then use a terminal.\n",
        "\n",
        "ref from : https://colab.research.google.com/github/health-data-science-OR/coding-for-ml/blob/main/content/03_mgt/04_exercises/02_conda.ipynb\n",
        "\n",
        "## Exercise 1\n",
        "\n",
        "* List the `conda` environments on your computer."
      ],
      "metadata": {
        "id": "TscxpvaQ5Xqx"
      },
      "id": "TscxpvaQ5Xqx"
    },
    {
      "cell_type": "markdown",
      "source": [
        "# Using `conda`\n",
        "\n",
        "To help you with your deployment either via PyPi, Binder or handing over a local python package it is a good idea to improve your `conda` package manager skills and working with conda virtual environments.  \n",
        "\n",
        "> If you are working on a Windows OS I recommend running these commands from Anaconda prompt.  If you are working on a Mac or a Linux machine then use a terminal.\n",
        "\n",
        "ref from : https://colab.research.google.com/github/health-data-science-OR/coding-for-ml/blob/main/content/03_mgt/04_exercises/02_conda.ipynb"
      ],
      "metadata": {
        "id": "cab-lzri9Szt"
      },
      "id": "cab-lzri9Szt"
    },
    {
      "cell_type": "markdown",
      "source": [
        "## install condacolab"
      ],
      "metadata": {
        "id": "FujbMDT89ht3"
      },
      "id": "FujbMDT89ht3"
    },
    {
      "cell_type": "code",
      "source": [
        "!pip install -q condacolab\n",
        "import condacolab\n",
        "condacolab.install()"
      ],
      "metadata": {
        "colab": {
          "base_uri": "https://localhost:8080/"
        },
        "id": "MDGv157C9H8X",
        "outputId": "f3848d45-8ddc-4d37-c577-46d32268c5cb"
      },
      "id": "MDGv157C9H8X",
      "execution_count": null,
      "outputs": [
        {
          "output_type": "stream",
          "name": "stdout",
          "text": [
            "⏬ Downloading https://github.com/conda-forge/miniforge/releases/download/23.11.0-0/Mambaforge-23.11.0-0-Linux-x86_64.sh...\n",
            "📦 Installing...\n",
            "📌 Adjusting configuration...\n",
            "🩹 Patching environment...\n",
            "⏲ Done in 0:00:14\n",
            "🔁 Restarting kernel...\n"
          ]
        }
      ]
    },
    {
      "cell_type": "code",
      "source": [
        "import condacolab\n",
        "condacolab.check()"
      ],
      "metadata": {
        "colab": {
          "base_uri": "https://localhost:8080/"
        },
        "id": "As2fe4ji9vI1",
        "outputId": "eb0b2638-6d61-494f-8ef3-af010469885b"
      },
      "id": "As2fe4ji9vI1",
      "execution_count": null,
      "outputs": [
        {
          "output_type": "stream",
          "name": "stdout",
          "text": [
            "✨🍰✨ Everything looks OK!\n"
          ]
        }
      ]
    },
    {
      "cell_type": "code",
      "source": [
        "!conda --version"
      ],
      "metadata": {
        "colab": {
          "base_uri": "https://localhost:8080/"
        },
        "id": "AXGcfGFd9z28",
        "outputId": "f5a0394e-249f-4f6f-d389-d05d31c8f26c"
      },
      "id": "AXGcfGFd9z28",
      "execution_count": null,
      "outputs": [
        {
          "output_type": "stream",
          "name": "stdout",
          "text": [
            "conda 23.11.0\n"
          ]
        }
      ]
    },
    {
      "cell_type": "markdown",
      "source": [
        "## Exercise 1\n",
        "\n",
        "* List the `conda` environments on your computer."
      ],
      "metadata": {
        "id": "KHm__v235nJB"
      },
      "id": "KHm__v235nJB"
    },
    {
      "cell_type": "code",
      "source": [
        "!conda env list"
      ],
      "metadata": {
        "colab": {
          "base_uri": "https://localhost:8080/"
        },
        "id": "WAOQM3FY5fyy",
        "outputId": "07bcabc5-d541-44f9-b439-7f216f96f2fd"
      },
      "id": "WAOQM3FY5fyy",
      "execution_count": null,
      "outputs": [
        {
          "output_type": "stream",
          "name": "stdout",
          "text": [
            "# conda environments:\n",
            "#\n",
            "base                     /usr/local\n",
            "\n"
          ]
        }
      ]
    },
    {
      "cell_type": "markdown",
      "source": [
        "## Exercise 2\n",
        "\n",
        "* By default you will be in the `base` conda environment.  List the packages installed."
      ],
      "metadata": {
        "id": "ZZqqH0o06tt3"
      },
      "id": "ZZqqH0o06tt3"
    },
    {
      "cell_type": "code",
      "execution_count": null,
      "id": "35d74941-b5e2-49b9-bced-0e0444026108",
      "metadata": {
        "id": "35d74941-b5e2-49b9-bced-0e0444026108",
        "colab": {
          "base_uri": "https://localhost:8080/"
        },
        "outputId": "6845e7b2-e2ee-44e9-dbf9-2eaf34af20cd"
      },
      "outputs": [
        {
          "output_type": "stream",
          "name": "stdout",
          "text": [
            "# packages in environment at /usr/local:\n",
            "#\n",
            "# Name                    Version                   Build  Channel\n",
            "_libgcc_mutex             0.1                 conda_forge    conda-forge\n",
            "_openmp_mutex             4.5                       2_gnu    conda-forge\n",
            "archspec                  0.2.2              pyhd8ed1ab_0    conda-forge\n",
            "boltons                   23.1.1             pyhd8ed1ab_0    conda-forge\n",
            "brotli-python             1.1.0           py310hc6cd4ac_1    conda-forge\n",
            "bzip2                     1.0.8                hd590300_5    conda-forge\n",
            "c-ares                    1.24.0               hd590300_0    conda-forge\n",
            "ca-certificates           2023.11.17           hbcca054_0    conda-forge\n",
            "certifi                   2023.11.17         pyhd8ed1ab_0    conda-forge\n",
            "cffi                      1.16.0          py310h2fee648_0    conda-forge\n",
            "charset-normalizer        3.3.2              pyhd8ed1ab_0    conda-forge\n",
            "colorama                  0.4.6              pyhd8ed1ab_0    conda-forge\n",
            "conda                     23.11.0         py310hff52083_1    conda-forge\n",
            "conda-libmamba-solver     23.12.0            pyhd8ed1ab_0    conda-forge\n",
            "conda-package-handling    2.2.0              pyh38be061_0    conda-forge\n",
            "conda-package-streaming   0.9.0              pyhd8ed1ab_0    conda-forge\n",
            "distro                    1.8.0              pyhd8ed1ab_0    conda-forge\n",
            "fmt                       10.1.1               h00ab1b0_1    conda-forge\n",
            "icu                       73.2                 h59595ed_0    conda-forge\n",
            "idna                      3.6                pyhd8ed1ab_0    conda-forge\n",
            "jsonpatch                 1.33               pyhd8ed1ab_0    conda-forge\n",
            "jsonpointer               2.4             py310hff52083_3    conda-forge\n",
            "keyutils                  1.6.1                h166bdaf_0    conda-forge\n",
            "krb5                      1.21.2               h659d440_0    conda-forge\n",
            "ld_impl_linux-64          2.40                 h41732ed_0    conda-forge\n",
            "libarchive                3.7.2                h2aa1ff5_1    conda-forge\n",
            "libcurl                   8.5.0                hca28451_0    conda-forge\n",
            "libedit                   3.1.20191231         he28a2e2_2    conda-forge\n",
            "libev                     4.33                 hd590300_2    conda-forge\n",
            "libffi                    3.4.2                h7f98852_5    conda-forge\n",
            "libgcc-ng                 13.2.0               h807b86a_3    conda-forge\n",
            "libgomp                   13.2.0               h807b86a_3    conda-forge\n",
            "libiconv                  1.17                 hd590300_2    conda-forge\n",
            "libmamba                  1.5.5                had39da4_0    conda-forge\n",
            "libmambapy                1.5.5           py310h39ff949_0    conda-forge\n",
            "libnghttp2                1.58.0               h47da74e_1    conda-forge\n",
            "libnsl                    2.0.1                hd590300_0    conda-forge\n",
            "libsolv                   0.7.27               hfc55251_0    conda-forge\n",
            "libsqlite                 3.44.2               h2797004_0    conda-forge\n",
            "libssh2                   1.11.0               h0841786_0    conda-forge\n",
            "libstdcxx-ng              13.2.0               h7e041cc_3    conda-forge\n",
            "libuuid                   2.38.1               h0b41bf4_0    conda-forge\n",
            "libxml2                   2.12.3               h232c23b_0    conda-forge\n",
            "libzlib                   1.2.13               hd590300_5    conda-forge\n",
            "lz4-c                     1.9.4                hcb278e6_0    conda-forge\n",
            "lzo                       2.10              h516909a_1000    conda-forge\n",
            "mamba                     1.5.5           py310h51d5547_0    conda-forge\n",
            "menuinst                  2.0.1           py310hff52083_0    conda-forge\n",
            "ncurses                   6.4                  h59595ed_2    conda-forge\n",
            "openssl                   3.2.0                hd590300_1    conda-forge\n",
            "packaging                 23.2               pyhd8ed1ab_0    conda-forge\n",
            "pip                       23.3.2             pyhd8ed1ab_0    conda-forge\n",
            "platformdirs              4.1.0              pyhd8ed1ab_0    conda-forge\n",
            "pluggy                    1.3.0              pyhd8ed1ab_0    conda-forge\n",
            "pybind11-abi              4                    hd8ed1ab_3    conda-forge\n",
            "pycosat                   0.6.6           py310h2372a71_0    conda-forge\n",
            "pycparser                 2.21               pyhd8ed1ab_0    conda-forge\n",
            "pysocks                   1.7.1              pyha2e5f31_6    conda-forge\n",
            "python                    3.10.13         hd12c33a_0_cpython    conda-forge\n",
            "python_abi                3.10                    4_cp310    conda-forge\n",
            "readline                  8.2                  h8228510_1    conda-forge\n",
            "reproc                    14.2.4.post0         hd590300_1    conda-forge\n",
            "reproc-cpp                14.2.4.post0         h59595ed_1    conda-forge\n",
            "requests                  2.31.0             pyhd8ed1ab_0    conda-forge\n",
            "ruamel.yaml               0.18.5          py310h2372a71_0    conda-forge\n",
            "ruamel.yaml.clib          0.2.7           py310h2372a71_2    conda-forge\n",
            "setuptools                68.2.2             pyhd8ed1ab_0    conda-forge\n",
            "tk                        8.6.13          noxft_h4845f30_101    conda-forge\n",
            "tqdm                      4.66.1             pyhd8ed1ab_0    conda-forge\n",
            "truststore                0.8.0              pyhd8ed1ab_0    conda-forge\n",
            "tzdata                    2023c                h71feb2d_0    conda-forge\n",
            "urllib3                   2.1.0              pyhd8ed1ab_0    conda-forge\n",
            "wheel                     0.42.0             pyhd8ed1ab_0    conda-forge\n",
            "xz                        5.2.6                h166bdaf_0    conda-forge\n",
            "yaml-cpp                  0.8.0                h59595ed_0    conda-forge\n",
            "zstandard                 0.22.0          py310h1275a96_0    conda-forge\n",
            "zstd                      1.5.5                hfc55251_0    conda-forge\n"
          ]
        }
      ],
      "source": [
        "!conda list"
      ]
    },
    {
      "cell_type": "markdown",
      "source": [
        "## Exercise 3\n",
        "\n",
        "Let's practice creating an empty environment, activating it, checking it is empty and then remove it.\n",
        "\n",
        "\n",
        "* Create an empty conda environment `empty_env`"
      ],
      "metadata": {
        "id": "-kJOvfdB69nR"
      },
      "id": "-kJOvfdB69nR"
    },
    {
      "cell_type": "code",
      "source": [
        "!conda create --name empty_env"
      ],
      "metadata": {
        "colab": {
          "base_uri": "https://localhost:8080/"
        },
        "id": "b_2oim5-7Ea5",
        "outputId": "c55d9263-cd0a-4da9-b810-3046a20f18a8"
      },
      "id": "b_2oim5-7Ea5",
      "execution_count": null,
      "outputs": [
        {
          "output_type": "stream",
          "name": "stdout",
          "text": [
            "Channels:\n",
            " - conda-forge\n",
            "Platform: linux-64\n",
            "Collecting package metadata (repodata.json): - \b\b\\ \b\b| \b\b/ \b\b- \b\b\\ \b\b| \b\b/ \b\b- \b\b\\ \b\b| \b\b/ \b\b- \b\b\\ \b\b| \b\b/ \b\b- \b\b\\ \b\b| \b\b/ \b\b- \b\b\\ \b\b| \b\b/ \b\b- \b\b\\ \b\b| \b\b/ \b\b- \b\b\\ \b\b| \b\b/ \b\b- \b\b\\ \b\b| \b\b/ \b\b- \b\b\\ \b\b| \b\b/ \b\b- \b\b\\ \b\b| \b\b/ \b\b- \b\b\\ \b\b| \b\b/ \b\b- \b\b\\ \b\b| \b\b/ \b\b- \b\b\\ \b\b| \b\b/ \b\b- \b\b\\ \b\b| \b\b/ \b\b- \b\b\\ \b\b| \b\b/ \b\b- \b\b\\ \b\b| \b\b/ \b\b- \b\b\\ \b\b| \b\b/ \b\b- \b\b\\ \b\b| \b\b/ \b\b- \b\b\\ \b\b| \b\b/ \b\b- \b\b\\ \b\b| \b\b/ \b\b- \b\b\\ \b\b| \b\b/ \b\b- \b\b\\ \b\b| \b\b/ \b\b- \b\b\\ \b\b| \b\b/ \b\b- \b\b\\ \b\b| \b\b/ \b\b- \b\b\\ \b\b| \b\b/ \b\b- \b\b\\ \b\b| \b\b/ \b\b- \b\b\\ \b\b| \b\b/ \b\b- \b\b\\ \b\b| \b\b/ \b\b- \b\b\\ \b\b| \b\b/ \b\b- \b\b\\ \b\b| \b\b/ \b\b- \b\b\\ \b\b| \b\b/ \b\b- \b\b\\ \b\b| \b\b/ \b\b- \b\b\\ \b\b| \b\b/ \b\b- \b\b\\ \b\b| \b\b/ \b\b- \b\b\\ \b\b| \b\b/ \b\b- \b\b\\ \b\b| \b\b/ \b\b- \b\b\\ \b\b| \b\b/ \b\b- \b\b\\ \b\b| \b\b/ \b\b- \b\b\\ \b\b| \b\b/ \b\b- \b\b\\ \b\b| \b\b/ \b\b- \b\b\\ \b\b| \b\b/ \b\b- \b\b\\ \b\b| \b\b/ \b\b- \b\b\\ \b\b| \b\b/ \b\b- \b\b\\ \b\b| \b\b/ \b\b- \b\b\\ \b\b| \b\b/ \b\b- \b\b\\ \b\b| \b\b/ \b\b- \b\b\\ \b\b| \b\b/ \b\b- \b\b\\ \b\b| \b\b/ \b\b- \b\b\\ \b\b| \b\b/ \b\b- \b\b\\ \b\b| \b\b/ \b\b- \b\b\\ \b\b| \b\b/ \b\b- \b\b\\ \b\b| \b\b/ \b\b- \b\b\\ \b\b| \b\b/ \b\b- \b\b\\ \b\b| \b\b/ \b\b- \b\b\\ \b\b| \b\b/ \b\b- \b\b\\ \b\b| \b\b/ \b\b- \b\b\\ \b\b| \b\b/ \b\b- \b\b\\ \b\b| \b\b/ \b\b- \b\b\\ \b\b| \b\b/ \b\b- \b\b\\ \b\b| \b\b/ \b\b- \b\b\\ \b\b| \b\b/ \b\b- \b\b\\ \b\b| \b\b/ \b\b- \b\b\\ \b\b| \b\b/ \b\b- \b\b\\ \b\b| \b\b/ \b\b- \b\b\\ \b\b| \b\b/ \b\b- \b\b\\ \b\b| \b\b/ \b\b- \b\b\\ \b\b| \b\b/ \b\b- \b\b\\ \b\b| \b\b/ \b\bdone\n",
            "Solving environment: \\ \b\bdone\n",
            "\n",
            "\n",
            "==> WARNING: A newer version of conda exists. <==\n",
            "    current version: 23.11.0\n",
            "    latest version: 24.11.0\n",
            "\n",
            "Please update conda by running\n",
            "\n",
            "    $ conda update -n base -c conda-forge conda\n",
            "\n",
            "\n",
            "\n",
            "## Package Plan ##\n",
            "\n",
            "  environment location: /usr/local/envs/empty_env\n",
            "\n",
            "\n",
            "\n",
            "Preparing transaction: / \b\bdone\n",
            "Verifying transaction: \\ \b\b| \b\b/ \b\bdone\n",
            "Executing transaction: \\ \b\bdone\n",
            "#\n",
            "# To activate this environment, use\n",
            "#\n",
            "#     $ conda activate empty_env\n",
            "#\n",
            "# To deactivate an active environment, use\n",
            "#\n",
            "#     $ conda deactivate\n",
            "\n"
          ]
        }
      ]
    },
    {
      "cell_type": "markdown",
      "source": [
        "> You will be prompted if you want to proceed.  Answer Yes!\n",
        "\n",
        "* Activate the environment"
      ],
      "metadata": {
        "id": "hT3_ehbZ7Oyv"
      },
      "id": "hT3_ehbZ7Oyv"
    },
    {
      "cell_type": "code",
      "source": [
        "!conda activate empty_env"
      ],
      "metadata": {
        "colab": {
          "base_uri": "https://localhost:8080/"
        },
        "id": "8X4Idezi7Twx",
        "outputId": "a642dccc-ec2b-43a0-fc99-c5a2d86f26f2"
      },
      "id": "8X4Idezi7Twx",
      "execution_count": null,
      "outputs": [
        {
          "output_type": "stream",
          "name": "stdout",
          "text": [
            "\n",
            "CondaError: Run 'conda init' before 'conda activate'\n",
            "\n"
          ]
        }
      ]
    },
    {
      "cell_type": "markdown",
      "source": [
        "List the packages installed"
      ],
      "metadata": {
        "id": "EVnTC_Lk7aVo"
      },
      "id": "EVnTC_Lk7aVo"
    },
    {
      "cell_type": "markdown",
      "source": [
        "There should be no packages!  If they are then you are probably in the wrong environment.  Check this with `conda env list`.  The active env is marked with `*`\n",
        "\n",
        "* Deactivate the env to return to `base`"
      ],
      "metadata": {
        "id": "6QOLT9xW7f5k"
      },
      "id": "6QOLT9xW7f5k"
    },
    {
      "cell_type": "code",
      "source": [
        "!conda list"
      ],
      "metadata": {
        "colab": {
          "base_uri": "https://localhost:8080/"
        },
        "id": "pRQkdpK97lXf",
        "outputId": "129865c3-0998-4932-d898-973e9d5fcef9"
      },
      "id": "pRQkdpK97lXf",
      "execution_count": null,
      "outputs": [
        {
          "output_type": "stream",
          "name": "stdout",
          "text": [
            "# packages in environment at /usr/local:\n",
            "#\n",
            "# Name                    Version                   Build  Channel\n",
            "_libgcc_mutex             0.1                 conda_forge    conda-forge\n",
            "_openmp_mutex             4.5                       2_gnu    conda-forge\n",
            "archspec                  0.2.2              pyhd8ed1ab_0    conda-forge\n",
            "boltons                   23.1.1             pyhd8ed1ab_0    conda-forge\n",
            "brotli-python             1.1.0           py310hc6cd4ac_1    conda-forge\n",
            "bzip2                     1.0.8                hd590300_5    conda-forge\n",
            "c-ares                    1.24.0               hd590300_0    conda-forge\n",
            "ca-certificates           2023.11.17           hbcca054_0    conda-forge\n",
            "certifi                   2023.11.17         pyhd8ed1ab_0    conda-forge\n",
            "cffi                      1.16.0          py310h2fee648_0    conda-forge\n",
            "charset-normalizer        3.3.2              pyhd8ed1ab_0    conda-forge\n",
            "colorama                  0.4.6              pyhd8ed1ab_0    conda-forge\n",
            "conda                     23.11.0         py310hff52083_1    conda-forge\n",
            "conda-libmamba-solver     23.12.0            pyhd8ed1ab_0    conda-forge\n",
            "conda-package-handling    2.2.0              pyh38be061_0    conda-forge\n",
            "conda-package-streaming   0.9.0              pyhd8ed1ab_0    conda-forge\n",
            "distro                    1.8.0              pyhd8ed1ab_0    conda-forge\n",
            "fmt                       10.1.1               h00ab1b0_1    conda-forge\n",
            "icu                       73.2                 h59595ed_0    conda-forge\n",
            "idna                      3.6                pyhd8ed1ab_0    conda-forge\n",
            "jsonpatch                 1.33               pyhd8ed1ab_0    conda-forge\n",
            "jsonpointer               2.4             py310hff52083_3    conda-forge\n",
            "keyutils                  1.6.1                h166bdaf_0    conda-forge\n",
            "krb5                      1.21.2               h659d440_0    conda-forge\n",
            "ld_impl_linux-64          2.40                 h41732ed_0    conda-forge\n",
            "libarchive                3.7.2                h2aa1ff5_1    conda-forge\n",
            "libcurl                   8.5.0                hca28451_0    conda-forge\n",
            "libedit                   3.1.20191231         he28a2e2_2    conda-forge\n",
            "libev                     4.33                 hd590300_2    conda-forge\n",
            "libffi                    3.4.2                h7f98852_5    conda-forge\n",
            "libgcc-ng                 13.2.0               h807b86a_3    conda-forge\n",
            "libgomp                   13.2.0               h807b86a_3    conda-forge\n",
            "libiconv                  1.17                 hd590300_2    conda-forge\n",
            "libmamba                  1.5.5                had39da4_0    conda-forge\n",
            "libmambapy                1.5.5           py310h39ff949_0    conda-forge\n",
            "libnghttp2                1.58.0               h47da74e_1    conda-forge\n",
            "libnsl                    2.0.1                hd590300_0    conda-forge\n",
            "libsolv                   0.7.27               hfc55251_0    conda-forge\n",
            "libsqlite                 3.44.2               h2797004_0    conda-forge\n",
            "libssh2                   1.11.0               h0841786_0    conda-forge\n",
            "libstdcxx-ng              13.2.0               h7e041cc_3    conda-forge\n",
            "libuuid                   2.38.1               h0b41bf4_0    conda-forge\n",
            "libxml2                   2.12.3               h232c23b_0    conda-forge\n",
            "libzlib                   1.2.13               hd590300_5    conda-forge\n",
            "lz4-c                     1.9.4                hcb278e6_0    conda-forge\n",
            "lzo                       2.10              h516909a_1000    conda-forge\n",
            "mamba                     1.5.5           py310h51d5547_0    conda-forge\n",
            "menuinst                  2.0.1           py310hff52083_0    conda-forge\n",
            "ncurses                   6.4                  h59595ed_2    conda-forge\n",
            "openssl                   3.2.0                hd590300_1    conda-forge\n",
            "packaging                 23.2               pyhd8ed1ab_0    conda-forge\n",
            "pip                       23.3.2             pyhd8ed1ab_0    conda-forge\n",
            "platformdirs              4.1.0              pyhd8ed1ab_0    conda-forge\n",
            "pluggy                    1.3.0              pyhd8ed1ab_0    conda-forge\n",
            "pybind11-abi              4                    hd8ed1ab_3    conda-forge\n",
            "pycosat                   0.6.6           py310h2372a71_0    conda-forge\n",
            "pycparser                 2.21               pyhd8ed1ab_0    conda-forge\n",
            "pysocks                   1.7.1              pyha2e5f31_6    conda-forge\n",
            "python                    3.10.13         hd12c33a_0_cpython    conda-forge\n",
            "python_abi                3.10                    4_cp310    conda-forge\n",
            "readline                  8.2                  h8228510_1    conda-forge\n",
            "reproc                    14.2.4.post0         hd590300_1    conda-forge\n",
            "reproc-cpp                14.2.4.post0         h59595ed_1    conda-forge\n",
            "requests                  2.31.0             pyhd8ed1ab_0    conda-forge\n",
            "ruamel.yaml               0.18.5          py310h2372a71_0    conda-forge\n",
            "ruamel.yaml.clib          0.2.7           py310h2372a71_2    conda-forge\n",
            "setuptools                68.2.2             pyhd8ed1ab_0    conda-forge\n",
            "tk                        8.6.13          noxft_h4845f30_101    conda-forge\n",
            "tqdm                      4.66.1             pyhd8ed1ab_0    conda-forge\n",
            "truststore                0.8.0              pyhd8ed1ab_0    conda-forge\n",
            "tzdata                    2023c                h71feb2d_0    conda-forge\n",
            "urllib3                   2.1.0              pyhd8ed1ab_0    conda-forge\n",
            "wheel                     0.42.0             pyhd8ed1ab_0    conda-forge\n",
            "xz                        5.2.6                h166bdaf_0    conda-forge\n",
            "yaml-cpp                  0.8.0                h59595ed_0    conda-forge\n",
            "zstandard                 0.22.0          py310h1275a96_0    conda-forge\n",
            "zstd                      1.5.5                hfc55251_0    conda-forge\n"
          ]
        }
      ]
    },
    {
      "cell_type": "markdown",
      "source": [
        " There should be no packages!  If they are then you are probably in the wrong environment.  Check this with `conda env list`.  The active env is marked with `*`\n",
        "\n",
        "* Deactivate the env to return to `base`"
      ],
      "metadata": {
        "id": "r1FhmgKF7rCP"
      },
      "id": "r1FhmgKF7rCP"
    },
    {
      "cell_type": "markdown",
      "source": [
        "* Remove the environment"
      ],
      "metadata": {
        "id": "7Cd5FOQV7xoM"
      },
      "id": "7Cd5FOQV7xoM"
    },
    {
      "cell_type": "code",
      "source": [
        "!conda env remove --name empty_env"
      ],
      "metadata": {
        "colab": {
          "base_uri": "https://localhost:8080/"
        },
        "id": "aA97TRDW77Yu",
        "outputId": "e806d3bd-7d1e-46de-d2b0-4302f496a75b"
      },
      "id": "aA97TRDW77Yu",
      "execution_count": null,
      "outputs": [
        {
          "output_type": "stream",
          "name": "stdout",
          "text": [
            "\n",
            "Remove all packages in environment /usr/local/envs/empty_env:\n",
            "\n"
          ]
        }
      ]
    },
    {
      "cell_type": "markdown",
      "source": [
        "## Exercise 4\n",
        "\n",
        "Now let's create an environment and install a few packages from the command line.\n",
        "\n",
        "* Create an environment called `test_env`\n",
        "* Activate `test_env`\n",
        "* Install `python` version 3.8.8 and `numpy` 1.20.3"
      ],
      "metadata": {
        "id": "Q-7WToOX8Cgl"
      },
      "id": "Q-7WToOX8Cgl"
    },
    {
      "cell_type": "code",
      "source": [
        "!conda install python=3.8.8 numpy=1.20.3"
      ],
      "metadata": {
        "colab": {
          "base_uri": "https://localhost:8080/"
        },
        "id": "SQWzHtaB8HtN",
        "outputId": "5b3e9474-4cea-4295-beac-195b6f5ae249"
      },
      "id": "SQWzHtaB8HtN",
      "execution_count": null,
      "outputs": [
        {
          "output_type": "stream",
          "name": "stdout",
          "text": [
            "Channels:\n",
            " - conda-forge\n",
            "Platform: linux-64\n",
            "Collecting package metadata (repodata.json): - \b\b\\ \b\b| \b\b/ \b\b- \b\b\\ \b\b| \b\b/ \b\b- \b\bdone\n",
            "Solving environment: | \b\bfailed\n",
            "\n",
            "SpecsConfigurationConflictError: Requested specs conflict with configured specs.\n",
            "  requested specs: \n",
            "    - numpy=1.20.3\n",
            "    - python=3.8.8\n",
            "  pinned specs: \n",
            "    - cuda-version=12\n",
            "    - python=3.10\n",
            "    - python_abi=3.10[build=*cp310*]\n",
            "Use 'conda config --show-sources' to look for 'pinned_specs' and 'track_features'\n",
            "configuration parameters.  Pinned specs may also be defined in the file\n",
            "/usr/local/conda-meta/pinned.\n",
            "\n",
            "\n"
          ]
        }
      ]
    },
    {
      "cell_type": "markdown",
      "source": [
        " Conda will report what dependencies are going to be installed.  This might vary depending on what operating system you use.  You will also be prompted if you are happy to proceed.  It will take a few seconds to install.\n",
        "\n",
        "\n",
        "\n",
        "List all the packages installed in `test_env`.  Check that the `python` and `numpy` versions match those you used."
      ],
      "metadata": {
        "id": "WUGmevcy8OHx"
      },
      "id": "WUGmevcy8OHx"
    },
    {
      "cell_type": "markdown",
      "source": [
        "## Exercise 5\n",
        "\n",
        "Staying with `test_env `create a `environment.yml` file that contains **only** the packages you installed from the command line.\n",
        "\n",
        "* Issue the following export command. Make sure you include the `--from-history` option or you will get a full list of everything in the environment.  The output you should is is displayed below as well."
      ],
      "metadata": {
        "id": "aOOw7cPx8Sx7"
      },
      "id": "aOOw7cPx8Sx7"
    },
    {
      "cell_type": "code",
      "source": [
        "!conda install conda-forge::fenics-dolfinx"
      ],
      "metadata": {
        "id": "vvTvaCylBl3o"
      },
      "id": "vvTvaCylBl3o",
      "execution_count": null,
      "outputs": []
    },
    {
      "cell_type": "code",
      "source": [
        "!conda env export --from-history"
      ],
      "metadata": {
        "colab": {
          "base_uri": "https://localhost:8080/"
        },
        "id": "oiTkFOra8ZjF",
        "outputId": "22f4c71e-bae6-4d91-8e95-91071d9e4dfe"
      },
      "id": "oiTkFOra8ZjF",
      "execution_count": null,
      "outputs": [
        {
          "output_type": "stream",
          "name": "stdout",
          "text": [
            "name: base\n",
            "channels:\n",
            "  - conda-forge\n",
            "dependencies:\n",
            "  - python=3.10\n",
            "  - pip\n",
            "  - conda[version='>=23.11.0']\n",
            "  - mamba[version='>=1.5.5']\n",
            "prefix: /usr/local\n"
          ]
        }
      ]
    },
    {
      "cell_type": "code",
      "source": [
        "!conda env export --from-history -f environment.yml\n",
        "!ls"
      ],
      "metadata": {
        "colab": {
          "base_uri": "https://localhost:8080/"
        },
        "id": "BPiU2jg9-4xf",
        "outputId": "4dc0f6b6-622b-43c6-f49c-fa544bde697a"
      },
      "id": "BPiU2jg9-4xf",
      "execution_count": null,
      "outputs": [
        {
          "output_type": "stream",
          "name": "stdout",
          "text": [
            "condacolab_install.log\tenvironment.yml  sample_data\n"
          ]
        }
      ]
    },
    {
      "cell_type": "markdown",
      "source": [
        "Remember this will export the file to the current working directory.  For simplicity I recommend working in the same directory as your code.  This makes even more sense for example if you have a git repo."
      ],
      "metadata": {
        "id": "OX-gBllV8fgf"
      },
      "id": "OX-gBllV8fgf"
    },
    {
      "cell_type": "markdown",
      "source": [
        "## Exercise 6\n",
        "\n",
        "Now let's practice creating a conda env from file.  I recommend working in the same directory as exercise 5.\n",
        "\n",
        "* Deactivate the `test_env` environment\n",
        "* Remove the `test_env`\n",
        "* Create the conda environment from file"
      ],
      "metadata": {
        "id": "zEjEx9sC8kx3"
      },
      "id": "zEjEx9sC8kx3"
    },
    {
      "cell_type": "code",
      "source": [
        "!conda env create -f environment.yml"
      ],
      "metadata": {
        "colab": {
          "base_uri": "https://localhost:8080/"
        },
        "id": "3jgwZ-it8twR",
        "outputId": "bb4b2fb5-7751-4243-fa0e-0a765f271cdb"
      },
      "id": "3jgwZ-it8twR",
      "execution_count": null,
      "outputs": [
        {
          "output_type": "stream",
          "name": "stdout",
          "text": [
            "\n",
            "CondaValueError: prefix already exists: /usr/local\n",
            "\n"
          ]
        }
      ]
    },
    {
      "cell_type": "markdown",
      "source": [
        "> This (re)creates `test_env`.\n",
        "\n",
        "* Activate `test_env`\n",
        "* Check what packages are installed."
      ],
      "metadata": {
        "id": "L18Ja0jI80iX"
      },
      "id": "L18Ja0jI80iX"
    },
    {
      "cell_type": "code",
      "source": [
        "!conda env list\n",
        "!ls"
      ],
      "metadata": {
        "id": "l4FQsKO6_-iA",
        "outputId": "9dcbae13-a77a-4adf-88cf-486ae04c2cab",
        "colab": {
          "base_uri": "https://localhost:8080/"
        }
      },
      "id": "l4FQsKO6_-iA",
      "execution_count": null,
      "outputs": [
        {
          "output_type": "stream",
          "name": "stdout",
          "text": [
            "# conda environments:\n",
            "#\n",
            "base                     /usr/local\n",
            "\n",
            "condacolab_install.log\tenvironment.yml  sample_data\n"
          ]
        }
      ]
    },
    {
      "cell_type": "code",
      "source": [
        "!conda init bash\n",
        "!conda activate test_env\n",
        "!conda list"
      ],
      "metadata": {
        "id": "lVsK1kkZA6vv",
        "outputId": "2d5da990-3a9f-44c8-d826-f03e6a57a21a",
        "colab": {
          "base_uri": "https://localhost:8080/"
        }
      },
      "id": "lVsK1kkZA6vv",
      "execution_count": null,
      "outputs": [
        {
          "output_type": "stream",
          "name": "stdout",
          "text": [
            "no change     /usr/local/condabin/conda\n",
            "no change     /usr/local/bin/conda\n",
            "no change     /usr/local/bin/conda-env\n",
            "no change     /usr/local/bin/activate\n",
            "no change     /usr/local/bin/deactivate\n",
            "no change     /usr/local/etc/profile.d/conda.sh\n",
            "no change     /usr/local/etc/fish/conf.d/conda.fish\n",
            "no change     /usr/local/shell/condabin/Conda.psm1\n",
            "no change     /usr/local/shell/condabin/conda-hook.ps1\n",
            "no change     /usr/local/lib/python3.10/site-packages/xontrib/conda.xsh\n",
            "no change     /usr/local/etc/profile.d/conda.csh\n",
            "no change     /root/.bashrc\n",
            "No action taken.\n",
            "\n",
            "CondaError: Run 'conda init' before 'conda activate'\n",
            "\n",
            "# packages in environment at /usr/local:\n",
            "#\n",
            "# Name                    Version                   Build  Channel\n",
            "_libgcc_mutex             0.1                 conda_forge    conda-forge\n",
            "_openmp_mutex             4.5                       2_gnu    conda-forge\n",
            "archspec                  0.2.2              pyhd8ed1ab_0    conda-forge\n",
            "boltons                   23.1.1             pyhd8ed1ab_0    conda-forge\n",
            "brotli-python             1.1.0           py310hc6cd4ac_1    conda-forge\n",
            "bzip2                     1.0.8                hd590300_5    conda-forge\n",
            "c-ares                    1.24.0               hd590300_0    conda-forge\n",
            "ca-certificates           2023.11.17           hbcca054_0    conda-forge\n",
            "certifi                   2023.11.17         pyhd8ed1ab_0    conda-forge\n",
            "cffi                      1.16.0          py310h2fee648_0    conda-forge\n",
            "charset-normalizer        3.3.2              pyhd8ed1ab_0    conda-forge\n",
            "colorama                  0.4.6              pyhd8ed1ab_0    conda-forge\n",
            "conda                     23.11.0         py310hff52083_1    conda-forge\n",
            "conda-libmamba-solver     23.12.0            pyhd8ed1ab_0    conda-forge\n",
            "conda-package-handling    2.2.0              pyh38be061_0    conda-forge\n",
            "conda-package-streaming   0.9.0              pyhd8ed1ab_0    conda-forge\n",
            "distro                    1.8.0              pyhd8ed1ab_0    conda-forge\n",
            "fmt                       10.1.1               h00ab1b0_1    conda-forge\n",
            "icu                       73.2                 h59595ed_0    conda-forge\n",
            "idna                      3.6                pyhd8ed1ab_0    conda-forge\n",
            "jsonpatch                 1.33               pyhd8ed1ab_0    conda-forge\n",
            "jsonpointer               2.4             py310hff52083_3    conda-forge\n",
            "keyutils                  1.6.1                h166bdaf_0    conda-forge\n",
            "krb5                      1.21.2               h659d440_0    conda-forge\n",
            "ld_impl_linux-64          2.40                 h41732ed_0    conda-forge\n",
            "libarchive                3.7.2                h2aa1ff5_1    conda-forge\n",
            "libcurl                   8.5.0                hca28451_0    conda-forge\n",
            "libedit                   3.1.20191231         he28a2e2_2    conda-forge\n",
            "libev                     4.33                 hd590300_2    conda-forge\n",
            "libffi                    3.4.2                h7f98852_5    conda-forge\n",
            "libgcc-ng                 13.2.0               h807b86a_3    conda-forge\n",
            "libgomp                   13.2.0               h807b86a_3    conda-forge\n",
            "libiconv                  1.17                 hd590300_2    conda-forge\n",
            "libmamba                  1.5.5                had39da4_0    conda-forge\n",
            "libmambapy                1.5.5           py310h39ff949_0    conda-forge\n",
            "libnghttp2                1.58.0               h47da74e_1    conda-forge\n",
            "libnsl                    2.0.1                hd590300_0    conda-forge\n",
            "libsolv                   0.7.27               hfc55251_0    conda-forge\n",
            "libsqlite                 3.44.2               h2797004_0    conda-forge\n",
            "libssh2                   1.11.0               h0841786_0    conda-forge\n",
            "libstdcxx-ng              13.2.0               h7e041cc_3    conda-forge\n",
            "libuuid                   2.38.1               h0b41bf4_0    conda-forge\n",
            "libxml2                   2.12.3               h232c23b_0    conda-forge\n",
            "libzlib                   1.2.13               hd590300_5    conda-forge\n",
            "lz4-c                     1.9.4                hcb278e6_0    conda-forge\n",
            "lzo                       2.10              h516909a_1000    conda-forge\n",
            "mamba                     1.5.5           py310h51d5547_0    conda-forge\n",
            "menuinst                  2.0.1           py310hff52083_0    conda-forge\n",
            "ncurses                   6.4                  h59595ed_2    conda-forge\n",
            "openssl                   3.2.0                hd590300_1    conda-forge\n",
            "packaging                 23.2               pyhd8ed1ab_0    conda-forge\n",
            "pip                       23.3.2             pyhd8ed1ab_0    conda-forge\n",
            "platformdirs              4.1.0              pyhd8ed1ab_0    conda-forge\n",
            "pluggy                    1.3.0              pyhd8ed1ab_0    conda-forge\n",
            "pybind11-abi              4                    hd8ed1ab_3    conda-forge\n",
            "pycosat                   0.6.6           py310h2372a71_0    conda-forge\n",
            "pycparser                 2.21               pyhd8ed1ab_0    conda-forge\n",
            "pysocks                   1.7.1              pyha2e5f31_6    conda-forge\n",
            "python                    3.10.13         hd12c33a_0_cpython    conda-forge\n",
            "python_abi                3.10                    4_cp310    conda-forge\n",
            "readline                  8.2                  h8228510_1    conda-forge\n",
            "reproc                    14.2.4.post0         hd590300_1    conda-forge\n",
            "reproc-cpp                14.2.4.post0         h59595ed_1    conda-forge\n",
            "requests                  2.31.0             pyhd8ed1ab_0    conda-forge\n",
            "ruamel.yaml               0.18.5          py310h2372a71_0    conda-forge\n",
            "ruamel.yaml.clib          0.2.7           py310h2372a71_2    conda-forge\n",
            "setuptools                68.2.2             pyhd8ed1ab_0    conda-forge\n",
            "tk                        8.6.13          noxft_h4845f30_101    conda-forge\n",
            "tqdm                      4.66.1             pyhd8ed1ab_0    conda-forge\n",
            "truststore                0.8.0              pyhd8ed1ab_0    conda-forge\n",
            "tzdata                    2023c                h71feb2d_0    conda-forge\n",
            "urllib3                   2.1.0              pyhd8ed1ab_0    conda-forge\n",
            "wheel                     0.42.0             pyhd8ed1ab_0    conda-forge\n",
            "xz                        5.2.6                h166bdaf_0    conda-forge\n",
            "yaml-cpp                  0.8.0                h59595ed_0    conda-forge\n",
            "zstandard                 0.22.0          py310h1275a96_0    conda-forge\n",
            "zstd                      1.5.5                hfc55251_0    conda-forge\n"
          ]
        }
      ]
    },
    {
      "cell_type": "code",
      "source": [
        "!conda install conda-forge::fenics-dolfinx"
      ],
      "metadata": {
        "id": "8Y8xv0CFBvFo"
      },
      "id": "8Y8xv0CFBvFo",
      "execution_count": null,
      "outputs": []
    },
    {
      "cell_type": "markdown",
      "source": [],
      "metadata": {
        "id": "0Kwy7-9g8rQk"
      },
      "id": "0Kwy7-9g8rQk"
    },
    {
      "cell_type": "code",
      "source": [
        "import matplotlib.pyplot as plt\n",
        "import pandas as pd\n",
        "import fenics as fe\n",
        "\n",
        "\n",
        "print(\"panda verion:\",pd.__version__)\n",
        "#print(\"fenics version:\",fenics.__version__)\n",
        "print(\"fenics function list :\",dir(fe))"
      ],
      "metadata": {
        "id": "jX_9fiv3DY38"
      },
      "id": "jX_9fiv3DY38",
      "execution_count": null,
      "outputs": []
    },
    {
      "cell_type": "code",
      "source": [
        "!bash"
      ],
      "metadata": {
        "id": "sfTmkZ9BDF_y",
        "outputId": "4071c2b8-56fe-4a02-b356-6835f883f300",
        "colab": {
          "base_uri": "https://localhost:8080/"
        }
      },
      "id": "sfTmkZ9BDF_y",
      "execution_count": null,
      "outputs": [
        {
          "metadata": {
            "tags": null
          },
          "name": "stdout",
          "output_type": "stream",
          "text": [
            "bash: cannot set terminal process group (1177): Inappropriate ioctl for device\n",
            "bash: no job control in this shell\n",
            "Error while loading conda entry point: conda-libmamba-solver (module 'libmambapy' has no attribute 'QueryFormat')\n",
            "\u001b[?2004h(base) \u001b[01;34m/content\u001b[00m# conda activate\n",
            "Error while loading conda entry point: conda-libmamba-solver (module 'libmambapy' has no attribute 'QueryFormat')\n",
            "\u001b[?2004h(base) \u001b[01;34m/content\u001b[00m# conda activate test_env\n",
            "Error while loading conda entry point: conda-libmamba-solver (module 'libmambapy' has no attribute 'QueryFormat')\n",
            "\n",
            "EnvironmentNameNotFound: Could not find conda environment: test_env\n",
            "You can list all discoverable environments with `conda info --envs`.\n",
            "\n",
            "\n",
            "\u001b[?2004h(base) \u001b[01;34m/content\u001b[00m# "
          ]
        }
      ]
    }
  ],
  "metadata": {
    "kernelspec": {
      "display_name": "Python 3 (ipykernel)",
      "language": "python",
      "name": "python3"
    },
    "language_info": {
      "codemirror_mode": {
        "name": "ipython",
        "version": 3
      },
      "file_extension": ".py",
      "mimetype": "text/x-python",
      "name": "python",
      "nbconvert_exporter": "python",
      "pygments_lexer": "ipython3",
      "version": "3.8.8"
    },
    "colab": {
      "provenance": [],
      "include_colab_link": true
    }
  },
  "nbformat": 4,
  "nbformat_minor": 5
}