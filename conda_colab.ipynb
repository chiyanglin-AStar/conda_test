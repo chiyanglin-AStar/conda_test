{
  "cells": [
    {
      "cell_type": "markdown",
      "metadata": {
        "id": "view-in-github",
        "colab_type": "text"
      },
      "source": [
        "<a href=\"https://colab.research.google.com/github/chiyanglin-AStar/conda_test/blob/main/conda_colab.ipynb\" target=\"_parent\"><img src=\"https://colab.research.google.com/assets/colab-badge.svg\" alt=\"Open In Colab\"/></a>"
      ]
    },
    {
      "cell_type": "markdown",
      "id": "ad63482d-4247-4589-a572-68345afa9ae5",
      "metadata": {
        "id": "ad63482d-4247-4589-a572-68345afa9ae5"
      },
      "source": [
        "# Using `conda`\n",
        "\n",
        "To help you with your deployment either via PyPi, Binder or handing over a local python package it is a good idea to improve your `conda` package manager skills and working with conda virtual environments.  \n",
        "\n",
        "> If you are working on a Windows OS I recommend running these commands from Anaconda prompt.  If you are working on a Mac or a Linux machine then use a terminal.\n",
        "\n",
        "ref from : https://colab.research.google.com/github/health-data-science-OR/coding-for-ml/blob/main/content/03_mgt/04_exercises/02_conda.ipynb\n",
        "\n",
        "## Exercise 1\n",
        "\n",
        "* List the `conda` environments on your computer.\n",
        "\n",
        "```\n",
        "conda env list\n",
        "```\n",
        "\n",
        "## Exercise 2\n",
        "\n",
        "* By default you will be in the `base` conda environment.  List the packages installed.\n",
        "\n",
        "```bash\n",
        "conda list\n",
        "```\n",
        "\n",
        "## Exercise 3\n",
        "\n",
        "Let's practice creating an empty environment, activating it, checking it is empty and then remove it.\n",
        "\n",
        "\n",
        "* Create an empty conda environment `empty_env`\n",
        "\n",
        "```bash\n",
        "conda create --name empty_env\n",
        "```\n",
        "\n",
        "> You will be prompted if you want to proceed.  Answer Yes!\n",
        "\n",
        "* Activate the environment\n",
        "\n",
        "```bash\n",
        "$ conda activate empty_env\n",
        "```\n",
        "\n",
        "* List the packages installed\n",
        "\n",
        "```bash\n",
        "conda list\n",
        "```\n",
        "\n",
        "> There should be no packages!  If they are then you are probably in the wrong environment.  Check this with `conda env list`.  The active env is marked with `*`\n",
        "\n",
        "* Deactivate the env to return to `base`\n",
        "\n",
        "```bash\n",
        "conda deactivate\n",
        "```\n",
        "\n",
        "* Remove the environment\n",
        "\n",
        "```bash\n",
        "conda env remove --name empty_env\n",
        "```\n",
        "\n",
        "* Verify the environment is removed using list\n",
        "\n",
        "```bash\n",
        "conda env list\n",
        "```\n",
        "\n",
        "\n",
        "## Exercise 4\n",
        "\n",
        "Now let's create an environment and install a few packages from the command line.\n",
        "\n",
        "* Create an environment called `test_env`\n",
        "* Activate `test_env`\n",
        "* Install `python` version 3.8.8 and `numpy` 1.20.3\n",
        "\n",
        "```bash\n",
        "conda install python=3.8.8 numpy=1.20.3\n",
        "```\n",
        "\n",
        "> Conda will report what dependencies are going to be installed.  This might vary depending on what operating system you use.  You will also be prompted if you are happy to proceed.  It will take a few seconds to install.\n",
        "\n",
        "\n",
        "\n",
        "List all the packages installed in `test_env`.  Check that the `python` and `numpy` versions match those you used.\n",
        "\n",
        "\n",
        "## Exercise 5\n",
        "\n",
        "Staying with `test_env `create a `environment.yml` file that contains **only** the packages you installed from the command line.\n",
        "\n",
        "* Issue the following export command. Make sure you include the `--from-history` option or you will get a full list of everything in the environment.  The output you should is is displayed below as well.\n",
        "\n",
        "```bash\n",
        "$ conda env export --from-history\n",
        "\n",
        "name: test_env\n",
        "channels:\n",
        "  - defaults\n",
        "dependencies:\n",
        "  - numpy=1.20.3\n",
        "  - python=3.8.8\n",
        "```\n",
        "\n",
        "* It is also possible to export this to a named file (typically `environment.yml`)\n",
        "\n",
        "```bash\n",
        "$ conda env export --from-history -f environment.yml\n",
        "```\n",
        "\n",
        "> Remember this will export the file to the current working directory.  For simplicity I recommend working in the same directory as your code.  This makes even more sense for example if you have a git repo.\n",
        "\n",
        "## Exercise 6\n",
        "\n",
        "Now let's practice creating a conda env from file.  I recommend working in the same directory as exercise 5.\n",
        "\n",
        "* Deactivate the `test_env` environment\n",
        "* Remove the `test_env`\n",
        "* Create the conda environment from file\n",
        "\n",
        "```bash\n",
        "$ conda env create -f environment.yml\n",
        "```\n",
        "\n",
        "> This (re)creates `test_env`.\n",
        "\n",
        "* Activate `test_env`\n",
        "* Check what packages are installed."
      ]
    },
    {
      "cell_type": "markdown",
      "source": [
        "# Using `conda`\n",
        "\n",
        "To help you with your deployment either via PyPi, Binder or handing over a local python package it is a good idea to improve your `conda` package manager skills and working with conda virtual environments.  \n",
        "\n",
        "> If you are working on a Windows OS I recommend running these commands from Anaconda prompt.  If you are working on a Mac or a Linux machine then use a terminal.\n",
        "\n",
        "ref from : https://colab.research.google.com/github/health-data-science-OR/coding-for-ml/blob/main/content/03_mgt/04_exercises/02_conda.ipynb\n",
        "\n",
        "## Exercise 1\n",
        "\n",
        "* List the `conda` environments on your computer."
      ],
      "metadata": {
        "id": "TscxpvaQ5Xqx"
      },
      "id": "TscxpvaQ5Xqx"
    },
    {
      "cell_type": "markdown",
      "source": [
        "# Using `conda`\n",
        "\n",
        "To help you with your deployment either via PyPi, Binder or handing over a local python package it is a good idea to improve your `conda` package manager skills and working with conda virtual environments.  \n",
        "\n",
        "> If you are working on a Windows OS I recommend running these commands from Anaconda prompt.  If you are working on a Mac or a Linux machine then use a terminal.\n",
        "\n",
        "ref from : https://colab.research.google.com/github/health-data-science-OR/coding-for-ml/blob/main/content/03_mgt/04_exercises/02_conda.ipynb"
      ],
      "metadata": {
        "id": "cab-lzri9Szt"
      },
      "id": "cab-lzri9Szt"
    },
    {
      "cell_type": "markdown",
      "source": [
        "## install condacolab"
      ],
      "metadata": {
        "id": "FujbMDT89ht3"
      },
      "id": "FujbMDT89ht3"
    },
    {
      "cell_type": "code",
      "source": [
        "!pip install -q condacolab\n",
        "import condacolab\n",
        "condacolab.install()"
      ],
      "metadata": {
        "colab": {
          "base_uri": "https://localhost:8080/"
        },
        "id": "MDGv157C9H8X",
        "outputId": "f3848d45-8ddc-4d37-c577-46d32268c5cb"
      },
      "id": "MDGv157C9H8X",
      "execution_count": 2,
      "outputs": [
        {
          "output_type": "stream",
          "name": "stdout",
          "text": [
            "⏬ Downloading https://github.com/conda-forge/miniforge/releases/download/23.11.0-0/Mambaforge-23.11.0-0-Linux-x86_64.sh...\n",
            "📦 Installing...\n",
            "📌 Adjusting configuration...\n",
            "🩹 Patching environment...\n",
            "⏲ Done in 0:00:14\n",
            "🔁 Restarting kernel...\n"
          ]
        }
      ]
    },
    {
      "cell_type": "code",
      "source": [
        "import condacolab\n",
        "condacolab.check()"
      ],
      "metadata": {
        "colab": {
          "base_uri": "https://localhost:8080/"
        },
        "id": "As2fe4ji9vI1",
        "outputId": "eb0b2638-6d61-494f-8ef3-af010469885b"
      },
      "id": "As2fe4ji9vI1",
      "execution_count": 1,
      "outputs": [
        {
          "output_type": "stream",
          "name": "stdout",
          "text": [
            "✨🍰✨ Everything looks OK!\n"
          ]
        }
      ]
    },
    {
      "cell_type": "code",
      "source": [
        "!conda --version"
      ],
      "metadata": {
        "colab": {
          "base_uri": "https://localhost:8080/"
        },
        "id": "AXGcfGFd9z28",
        "outputId": "f5a0394e-249f-4f6f-d389-d05d31c8f26c"
      },
      "id": "AXGcfGFd9z28",
      "execution_count": 2,
      "outputs": [
        {
          "output_type": "stream",
          "name": "stdout",
          "text": [
            "conda 23.11.0\n"
          ]
        }
      ]
    },
    {
      "cell_type": "markdown",
      "source": [
        "## Exercise 1\n",
        "\n",
        "* List the `conda` environments on your computer."
      ],
      "metadata": {
        "id": "KHm__v235nJB"
      },
      "id": "KHm__v235nJB"
    },
    {
      "cell_type": "code",
      "source": [
        "!conda env list"
      ],
      "metadata": {
        "colab": {
          "base_uri": "https://localhost:8080/"
        },
        "id": "WAOQM3FY5fyy",
        "outputId": "07bcabc5-d541-44f9-b439-7f216f96f2fd"
      },
      "id": "WAOQM3FY5fyy",
      "execution_count": 3,
      "outputs": [
        {
          "output_type": "stream",
          "name": "stdout",
          "text": [
            "# conda environments:\n",
            "#\n",
            "base                     /usr/local\n",
            "\n"
          ]
        }
      ]
    },
    {
      "cell_type": "markdown",
      "source": [
        "## Exercise 2\n",
        "\n",
        "* By default you will be in the `base` conda environment.  List the packages installed."
      ],
      "metadata": {
        "id": "ZZqqH0o06tt3"
      },
      "id": "ZZqqH0o06tt3"
    },
    {
      "cell_type": "code",
      "execution_count": 4,
      "id": "35d74941-b5e2-49b9-bced-0e0444026108",
      "metadata": {
        "id": "35d74941-b5e2-49b9-bced-0e0444026108",
        "colab": {
          "base_uri": "https://localhost:8080/"
        },
        "outputId": "6845e7b2-e2ee-44e9-dbf9-2eaf34af20cd"
      },
      "outputs": [
        {
          "output_type": "stream",
          "name": "stdout",
          "text": [
            "# packages in environment at /usr/local:\n",
            "#\n",
            "# Name                    Version                   Build  Channel\n",
            "_libgcc_mutex             0.1                 conda_forge    conda-forge\n",
            "_openmp_mutex             4.5                       2_gnu    conda-forge\n",
            "archspec                  0.2.2              pyhd8ed1ab_0    conda-forge\n",
            "boltons                   23.1.1             pyhd8ed1ab_0    conda-forge\n",
            "brotli-python             1.1.0           py310hc6cd4ac_1    conda-forge\n",
            "bzip2                     1.0.8                hd590300_5    conda-forge\n",
            "c-ares                    1.24.0               hd590300_0    conda-forge\n",
            "ca-certificates           2023.11.17           hbcca054_0    conda-forge\n",
            "certifi                   2023.11.17         pyhd8ed1ab_0    conda-forge\n",
            "cffi                      1.16.0          py310h2fee648_0    conda-forge\n",
            "charset-normalizer        3.3.2              pyhd8ed1ab_0    conda-forge\n",
            "colorama                  0.4.6              pyhd8ed1ab_0    conda-forge\n",
            "conda                     23.11.0         py310hff52083_1    conda-forge\n",
            "conda-libmamba-solver     23.12.0            pyhd8ed1ab_0    conda-forge\n",
            "conda-package-handling    2.2.0              pyh38be061_0    conda-forge\n",
            "conda-package-streaming   0.9.0              pyhd8ed1ab_0    conda-forge\n",
            "distro                    1.8.0              pyhd8ed1ab_0    conda-forge\n",
            "fmt                       10.1.1               h00ab1b0_1    conda-forge\n",
            "icu                       73.2                 h59595ed_0    conda-forge\n",
            "idna                      3.6                pyhd8ed1ab_0    conda-forge\n",
            "jsonpatch                 1.33               pyhd8ed1ab_0    conda-forge\n",
            "jsonpointer               2.4             py310hff52083_3    conda-forge\n",
            "keyutils                  1.6.1                h166bdaf_0    conda-forge\n",
            "krb5                      1.21.2               h659d440_0    conda-forge\n",
            "ld_impl_linux-64          2.40                 h41732ed_0    conda-forge\n",
            "libarchive                3.7.2                h2aa1ff5_1    conda-forge\n",
            "libcurl                   8.5.0                hca28451_0    conda-forge\n",
            "libedit                   3.1.20191231         he28a2e2_2    conda-forge\n",
            "libev                     4.33                 hd590300_2    conda-forge\n",
            "libffi                    3.4.2                h7f98852_5    conda-forge\n",
            "libgcc-ng                 13.2.0               h807b86a_3    conda-forge\n",
            "libgomp                   13.2.0               h807b86a_3    conda-forge\n",
            "libiconv                  1.17                 hd590300_2    conda-forge\n",
            "libmamba                  1.5.5                had39da4_0    conda-forge\n",
            "libmambapy                1.5.5           py310h39ff949_0    conda-forge\n",
            "libnghttp2                1.58.0               h47da74e_1    conda-forge\n",
            "libnsl                    2.0.1                hd590300_0    conda-forge\n",
            "libsolv                   0.7.27               hfc55251_0    conda-forge\n",
            "libsqlite                 3.44.2               h2797004_0    conda-forge\n",
            "libssh2                   1.11.0               h0841786_0    conda-forge\n",
            "libstdcxx-ng              13.2.0               h7e041cc_3    conda-forge\n",
            "libuuid                   2.38.1               h0b41bf4_0    conda-forge\n",
            "libxml2                   2.12.3               h232c23b_0    conda-forge\n",
            "libzlib                   1.2.13               hd590300_5    conda-forge\n",
            "lz4-c                     1.9.4                hcb278e6_0    conda-forge\n",
            "lzo                       2.10              h516909a_1000    conda-forge\n",
            "mamba                     1.5.5           py310h51d5547_0    conda-forge\n",
            "menuinst                  2.0.1           py310hff52083_0    conda-forge\n",
            "ncurses                   6.4                  h59595ed_2    conda-forge\n",
            "openssl                   3.2.0                hd590300_1    conda-forge\n",
            "packaging                 23.2               pyhd8ed1ab_0    conda-forge\n",
            "pip                       23.3.2             pyhd8ed1ab_0    conda-forge\n",
            "platformdirs              4.1.0              pyhd8ed1ab_0    conda-forge\n",
            "pluggy                    1.3.0              pyhd8ed1ab_0    conda-forge\n",
            "pybind11-abi              4                    hd8ed1ab_3    conda-forge\n",
            "pycosat                   0.6.6           py310h2372a71_0    conda-forge\n",
            "pycparser                 2.21               pyhd8ed1ab_0    conda-forge\n",
            "pysocks                   1.7.1              pyha2e5f31_6    conda-forge\n",
            "python                    3.10.13         hd12c33a_0_cpython    conda-forge\n",
            "python_abi                3.10                    4_cp310    conda-forge\n",
            "readline                  8.2                  h8228510_1    conda-forge\n",
            "reproc                    14.2.4.post0         hd590300_1    conda-forge\n",
            "reproc-cpp                14.2.4.post0         h59595ed_1    conda-forge\n",
            "requests                  2.31.0             pyhd8ed1ab_0    conda-forge\n",
            "ruamel.yaml               0.18.5          py310h2372a71_0    conda-forge\n",
            "ruamel.yaml.clib          0.2.7           py310h2372a71_2    conda-forge\n",
            "setuptools                68.2.2             pyhd8ed1ab_0    conda-forge\n",
            "tk                        8.6.13          noxft_h4845f30_101    conda-forge\n",
            "tqdm                      4.66.1             pyhd8ed1ab_0    conda-forge\n",
            "truststore                0.8.0              pyhd8ed1ab_0    conda-forge\n",
            "tzdata                    2023c                h71feb2d_0    conda-forge\n",
            "urllib3                   2.1.0              pyhd8ed1ab_0    conda-forge\n",
            "wheel                     0.42.0             pyhd8ed1ab_0    conda-forge\n",
            "xz                        5.2.6                h166bdaf_0    conda-forge\n",
            "yaml-cpp                  0.8.0                h59595ed_0    conda-forge\n",
            "zstandard                 0.22.0          py310h1275a96_0    conda-forge\n",
            "zstd                      1.5.5                hfc55251_0    conda-forge\n"
          ]
        }
      ],
      "source": [
        "!conda list"
      ]
    },
    {
      "cell_type": "markdown",
      "source": [
        "## Exercise 3\n",
        "\n",
        "Let's practice creating an empty environment, activating it, checking it is empty and then remove it.\n",
        "\n",
        "\n",
        "* Create an empty conda environment `empty_env`"
      ],
      "metadata": {
        "id": "-kJOvfdB69nR"
      },
      "id": "-kJOvfdB69nR"
    },
    {
      "cell_type": "code",
      "source": [
        "!conda create --name empty_env"
      ],
      "metadata": {
        "colab": {
          "base_uri": "https://localhost:8080/"
        },
        "id": "b_2oim5-7Ea5",
        "outputId": "c55d9263-cd0a-4da9-b810-3046a20f18a8"
      },
      "id": "b_2oim5-7Ea5",
      "execution_count": 5,
      "outputs": [
        {
          "output_type": "stream",
          "name": "stdout",
          "text": [
            "Channels:\n",
            " - conda-forge\n",
            "Platform: linux-64\n",
            "Collecting package metadata (repodata.json): - \b\b\\ \b\b| \b\b/ \b\b- \b\b\\ \b\b| \b\b/ \b\b- \b\b\\ \b\b| \b\b/ \b\b- \b\b\\ \b\b| \b\b/ \b\b- \b\b\\ \b\b| \b\b/ \b\b- \b\b\\ \b\b| \b\b/ \b\b- \b\b\\ \b\b| \b\b/ \b\b- \b\b\\ \b\b| \b\b/ \b\b- \b\b\\ \b\b| \b\b/ \b\b- \b\b\\ \b\b| \b\b/ \b\b- \b\b\\ \b\b| \b\b/ \b\b- \b\b\\ \b\b| \b\b/ \b\b- \b\b\\ \b\b| \b\b/ \b\b- \b\b\\ \b\b| \b\b/ \b\b- \b\b\\ \b\b| \b\b/ \b\b- \b\b\\ \b\b| \b\b/ \b\b- \b\b\\ \b\b| \b\b/ \b\b- \b\b\\ \b\b| \b\b/ \b\b- \b\b\\ \b\b| \b\b/ \b\b- \b\b\\ \b\b| \b\b/ \b\b- \b\b\\ \b\b| \b\b/ \b\b- \b\b\\ \b\b| \b\b/ \b\b- \b\b\\ \b\b| \b\b/ \b\b- \b\b\\ \b\b| \b\b/ \b\b- \b\b\\ \b\b| \b\b/ \b\b- \b\b\\ \b\b| \b\b/ \b\b- \b\b\\ \b\b| \b\b/ \b\b- \b\b\\ \b\b| \b\b/ \b\b- \b\b\\ \b\b| \b\b/ \b\b- \b\b\\ \b\b| \b\b/ \b\b- \b\b\\ \b\b| \b\b/ \b\b- \b\b\\ \b\b| \b\b/ \b\b- \b\b\\ \b\b| \b\b/ \b\b- \b\b\\ \b\b| \b\b/ \b\b- \b\b\\ \b\b| \b\b/ \b\b- \b\b\\ \b\b| \b\b/ \b\b- \b\b\\ \b\b| \b\b/ \b\b- \b\b\\ \b\b| \b\b/ \b\b- \b\b\\ \b\b| \b\b/ \b\b- \b\b\\ \b\b| \b\b/ \b\b- \b\b\\ \b\b| \b\b/ \b\b- \b\b\\ \b\b| \b\b/ \b\b- \b\b\\ \b\b| \b\b/ \b\b- \b\b\\ \b\b| \b\b/ \b\b- \b\b\\ \b\b| \b\b/ \b\b- \b\b\\ \b\b| \b\b/ \b\b- \b\b\\ \b\b| \b\b/ \b\b- \b\b\\ \b\b| \b\b/ \b\b- \b\b\\ \b\b| \b\b/ \b\b- \b\b\\ \b\b| \b\b/ \b\b- \b\b\\ \b\b| \b\b/ \b\b- \b\b\\ \b\b| \b\b/ \b\b- \b\b\\ \b\b| \b\b/ \b\b- \b\b\\ \b\b| \b\b/ \b\b- \b\b\\ \b\b| \b\b/ \b\b- \b\b\\ \b\b| \b\b/ \b\b- \b\b\\ \b\b| \b\b/ \b\b- \b\b\\ \b\b| \b\b/ \b\b- \b\b\\ \b\b| \b\b/ \b\b- \b\b\\ \b\b| \b\b/ \b\b- \b\b\\ \b\b| \b\b/ \b\b- \b\b\\ \b\b| \b\b/ \b\b- \b\b\\ \b\b| \b\b/ \b\b- \b\b\\ \b\b| \b\b/ \b\b- \b\b\\ \b\b| \b\b/ \b\b- \b\b\\ \b\b| \b\b/ \b\b- \b\b\\ \b\b| \b\b/ \b\b- \b\b\\ \b\b| \b\b/ \b\b- \b\b\\ \b\b| \b\b/ \b\bdone\n",
            "Solving environment: \\ \b\bdone\n",
            "\n",
            "\n",
            "==> WARNING: A newer version of conda exists. <==\n",
            "    current version: 23.11.0\n",
            "    latest version: 24.11.0\n",
            "\n",
            "Please update conda by running\n",
            "\n",
            "    $ conda update -n base -c conda-forge conda\n",
            "\n",
            "\n",
            "\n",
            "## Package Plan ##\n",
            "\n",
            "  environment location: /usr/local/envs/empty_env\n",
            "\n",
            "\n",
            "\n",
            "Preparing transaction: / \b\bdone\n",
            "Verifying transaction: \\ \b\b| \b\b/ \b\bdone\n",
            "Executing transaction: \\ \b\bdone\n",
            "#\n",
            "# To activate this environment, use\n",
            "#\n",
            "#     $ conda activate empty_env\n",
            "#\n",
            "# To deactivate an active environment, use\n",
            "#\n",
            "#     $ conda deactivate\n",
            "\n"
          ]
        }
      ]
    },
    {
      "cell_type": "markdown",
      "source": [
        "> You will be prompted if you want to proceed.  Answer Yes!\n",
        "\n",
        "* Activate the environment"
      ],
      "metadata": {
        "id": "hT3_ehbZ7Oyv"
      },
      "id": "hT3_ehbZ7Oyv"
    },
    {
      "cell_type": "code",
      "source": [
        "!conda activate empty_env"
      ],
      "metadata": {
        "colab": {
          "base_uri": "https://localhost:8080/"
        },
        "id": "8X4Idezi7Twx",
        "outputId": "a642dccc-ec2b-43a0-fc99-c5a2d86f26f2"
      },
      "id": "8X4Idezi7Twx",
      "execution_count": 6,
      "outputs": [
        {
          "output_type": "stream",
          "name": "stdout",
          "text": [
            "\n",
            "CondaError: Run 'conda init' before 'conda activate'\n",
            "\n"
          ]
        }
      ]
    },
    {
      "cell_type": "markdown",
      "source": [
        "List the packages installed"
      ],
      "metadata": {
        "id": "EVnTC_Lk7aVo"
      },
      "id": "EVnTC_Lk7aVo"
    },
    {
      "cell_type": "markdown",
      "source": [
        "There should be no packages!  If they are then you are probably in the wrong environment.  Check this with `conda env list`.  The active env is marked with `*`\n",
        "\n",
        "* Deactivate the env to return to `base`"
      ],
      "metadata": {
        "id": "6QOLT9xW7f5k"
      },
      "id": "6QOLT9xW7f5k"
    },
    {
      "cell_type": "code",
      "source": [
        "!conda list"
      ],
      "metadata": {
        "colab": {
          "base_uri": "https://localhost:8080/"
        },
        "id": "pRQkdpK97lXf",
        "outputId": "129865c3-0998-4932-d898-973e9d5fcef9"
      },
      "id": "pRQkdpK97lXf",
      "execution_count": 7,
      "outputs": [
        {
          "output_type": "stream",
          "name": "stdout",
          "text": [
            "# packages in environment at /usr/local:\n",
            "#\n",
            "# Name                    Version                   Build  Channel\n",
            "_libgcc_mutex             0.1                 conda_forge    conda-forge\n",
            "_openmp_mutex             4.5                       2_gnu    conda-forge\n",
            "archspec                  0.2.2              pyhd8ed1ab_0    conda-forge\n",
            "boltons                   23.1.1             pyhd8ed1ab_0    conda-forge\n",
            "brotli-python             1.1.0           py310hc6cd4ac_1    conda-forge\n",
            "bzip2                     1.0.8                hd590300_5    conda-forge\n",
            "c-ares                    1.24.0               hd590300_0    conda-forge\n",
            "ca-certificates           2023.11.17           hbcca054_0    conda-forge\n",
            "certifi                   2023.11.17         pyhd8ed1ab_0    conda-forge\n",
            "cffi                      1.16.0          py310h2fee648_0    conda-forge\n",
            "charset-normalizer        3.3.2              pyhd8ed1ab_0    conda-forge\n",
            "colorama                  0.4.6              pyhd8ed1ab_0    conda-forge\n",
            "conda                     23.11.0         py310hff52083_1    conda-forge\n",
            "conda-libmamba-solver     23.12.0            pyhd8ed1ab_0    conda-forge\n",
            "conda-package-handling    2.2.0              pyh38be061_0    conda-forge\n",
            "conda-package-streaming   0.9.0              pyhd8ed1ab_0    conda-forge\n",
            "distro                    1.8.0              pyhd8ed1ab_0    conda-forge\n",
            "fmt                       10.1.1               h00ab1b0_1    conda-forge\n",
            "icu                       73.2                 h59595ed_0    conda-forge\n",
            "idna                      3.6                pyhd8ed1ab_0    conda-forge\n",
            "jsonpatch                 1.33               pyhd8ed1ab_0    conda-forge\n",
            "jsonpointer               2.4             py310hff52083_3    conda-forge\n",
            "keyutils                  1.6.1                h166bdaf_0    conda-forge\n",
            "krb5                      1.21.2               h659d440_0    conda-forge\n",
            "ld_impl_linux-64          2.40                 h41732ed_0    conda-forge\n",
            "libarchive                3.7.2                h2aa1ff5_1    conda-forge\n",
            "libcurl                   8.5.0                hca28451_0    conda-forge\n",
            "libedit                   3.1.20191231         he28a2e2_2    conda-forge\n",
            "libev                     4.33                 hd590300_2    conda-forge\n",
            "libffi                    3.4.2                h7f98852_5    conda-forge\n",
            "libgcc-ng                 13.2.0               h807b86a_3    conda-forge\n",
            "libgomp                   13.2.0               h807b86a_3    conda-forge\n",
            "libiconv                  1.17                 hd590300_2    conda-forge\n",
            "libmamba                  1.5.5                had39da4_0    conda-forge\n",
            "libmambapy                1.5.5           py310h39ff949_0    conda-forge\n",
            "libnghttp2                1.58.0               h47da74e_1    conda-forge\n",
            "libnsl                    2.0.1                hd590300_0    conda-forge\n",
            "libsolv                   0.7.27               hfc55251_0    conda-forge\n",
            "libsqlite                 3.44.2               h2797004_0    conda-forge\n",
            "libssh2                   1.11.0               h0841786_0    conda-forge\n",
            "libstdcxx-ng              13.2.0               h7e041cc_3    conda-forge\n",
            "libuuid                   2.38.1               h0b41bf4_0    conda-forge\n",
            "libxml2                   2.12.3               h232c23b_0    conda-forge\n",
            "libzlib                   1.2.13               hd590300_5    conda-forge\n",
            "lz4-c                     1.9.4                hcb278e6_0    conda-forge\n",
            "lzo                       2.10              h516909a_1000    conda-forge\n",
            "mamba                     1.5.5           py310h51d5547_0    conda-forge\n",
            "menuinst                  2.0.1           py310hff52083_0    conda-forge\n",
            "ncurses                   6.4                  h59595ed_2    conda-forge\n",
            "openssl                   3.2.0                hd590300_1    conda-forge\n",
            "packaging                 23.2               pyhd8ed1ab_0    conda-forge\n",
            "pip                       23.3.2             pyhd8ed1ab_0    conda-forge\n",
            "platformdirs              4.1.0              pyhd8ed1ab_0    conda-forge\n",
            "pluggy                    1.3.0              pyhd8ed1ab_0    conda-forge\n",
            "pybind11-abi              4                    hd8ed1ab_3    conda-forge\n",
            "pycosat                   0.6.6           py310h2372a71_0    conda-forge\n",
            "pycparser                 2.21               pyhd8ed1ab_0    conda-forge\n",
            "pysocks                   1.7.1              pyha2e5f31_6    conda-forge\n",
            "python                    3.10.13         hd12c33a_0_cpython    conda-forge\n",
            "python_abi                3.10                    4_cp310    conda-forge\n",
            "readline                  8.2                  h8228510_1    conda-forge\n",
            "reproc                    14.2.4.post0         hd590300_1    conda-forge\n",
            "reproc-cpp                14.2.4.post0         h59595ed_1    conda-forge\n",
            "requests                  2.31.0             pyhd8ed1ab_0    conda-forge\n",
            "ruamel.yaml               0.18.5          py310h2372a71_0    conda-forge\n",
            "ruamel.yaml.clib          0.2.7           py310h2372a71_2    conda-forge\n",
            "setuptools                68.2.2             pyhd8ed1ab_0    conda-forge\n",
            "tk                        8.6.13          noxft_h4845f30_101    conda-forge\n",
            "tqdm                      4.66.1             pyhd8ed1ab_0    conda-forge\n",
            "truststore                0.8.0              pyhd8ed1ab_0    conda-forge\n",
            "tzdata                    2023c                h71feb2d_0    conda-forge\n",
            "urllib3                   2.1.0              pyhd8ed1ab_0    conda-forge\n",
            "wheel                     0.42.0             pyhd8ed1ab_0    conda-forge\n",
            "xz                        5.2.6                h166bdaf_0    conda-forge\n",
            "yaml-cpp                  0.8.0                h59595ed_0    conda-forge\n",
            "zstandard                 0.22.0          py310h1275a96_0    conda-forge\n",
            "zstd                      1.5.5                hfc55251_0    conda-forge\n"
          ]
        }
      ]
    },
    {
      "cell_type": "markdown",
      "source": [
        " There should be no packages!  If they are then you are probably in the wrong environment.  Check this with `conda env list`.  The active env is marked with `*`\n",
        "\n",
        "* Deactivate the env to return to `base`"
      ],
      "metadata": {
        "id": "r1FhmgKF7rCP"
      },
      "id": "r1FhmgKF7rCP"
    },
    {
      "cell_type": "markdown",
      "source": [
        "* Remove the environment"
      ],
      "metadata": {
        "id": "7Cd5FOQV7xoM"
      },
      "id": "7Cd5FOQV7xoM"
    },
    {
      "cell_type": "code",
      "source": [
        "!conda env remove --name empty_env"
      ],
      "metadata": {
        "colab": {
          "base_uri": "https://localhost:8080/"
        },
        "id": "aA97TRDW77Yu",
        "outputId": "e806d3bd-7d1e-46de-d2b0-4302f496a75b"
      },
      "id": "aA97TRDW77Yu",
      "execution_count": 8,
      "outputs": [
        {
          "output_type": "stream",
          "name": "stdout",
          "text": [
            "\n",
            "Remove all packages in environment /usr/local/envs/empty_env:\n",
            "\n"
          ]
        }
      ]
    },
    {
      "cell_type": "markdown",
      "source": [
        "## Exercise 4\n",
        "\n",
        "Now let's create an environment and install a few packages from the command line.\n",
        "\n",
        "* Create an environment called `test_env`\n",
        "* Activate `test_env`\n",
        "* Install `python` version 3.8.8 and `numpy` 1.20.3"
      ],
      "metadata": {
        "id": "Q-7WToOX8Cgl"
      },
      "id": "Q-7WToOX8Cgl"
    },
    {
      "cell_type": "code",
      "source": [
        "!conda install python=3.8.8 numpy=1.20.3"
      ],
      "metadata": {
        "colab": {
          "base_uri": "https://localhost:8080/"
        },
        "id": "SQWzHtaB8HtN",
        "outputId": "5b3e9474-4cea-4295-beac-195b6f5ae249"
      },
      "id": "SQWzHtaB8HtN",
      "execution_count": 9,
      "outputs": [
        {
          "output_type": "stream",
          "name": "stdout",
          "text": [
            "Channels:\n",
            " - conda-forge\n",
            "Platform: linux-64\n",
            "Collecting package metadata (repodata.json): - \b\b\\ \b\b| \b\b/ \b\b- \b\b\\ \b\b| \b\b/ \b\b- \b\bdone\n",
            "Solving environment: | \b\bfailed\n",
            "\n",
            "SpecsConfigurationConflictError: Requested specs conflict with configured specs.\n",
            "  requested specs: \n",
            "    - numpy=1.20.3\n",
            "    - python=3.8.8\n",
            "  pinned specs: \n",
            "    - cuda-version=12\n",
            "    - python=3.10\n",
            "    - python_abi=3.10[build=*cp310*]\n",
            "Use 'conda config --show-sources' to look for 'pinned_specs' and 'track_features'\n",
            "configuration parameters.  Pinned specs may also be defined in the file\n",
            "/usr/local/conda-meta/pinned.\n",
            "\n",
            "\n"
          ]
        }
      ]
    },
    {
      "cell_type": "markdown",
      "source": [
        " Conda will report what dependencies are going to be installed.  This might vary depending on what operating system you use.  You will also be prompted if you are happy to proceed.  It will take a few seconds to install.\n",
        "\n",
        "\n",
        "\n",
        "List all the packages installed in `test_env`.  Check that the `python` and `numpy` versions match those you used."
      ],
      "metadata": {
        "id": "WUGmevcy8OHx"
      },
      "id": "WUGmevcy8OHx"
    },
    {
      "cell_type": "markdown",
      "source": [
        "## Exercise 5\n",
        "\n",
        "Staying with `test_env `create a `environment.yml` file that contains **only** the packages you installed from the command line.\n",
        "\n",
        "* Issue the following export command. Make sure you include the `--from-history` option or you will get a full list of everything in the environment.  The output you should is is displayed below as well."
      ],
      "metadata": {
        "id": "aOOw7cPx8Sx7"
      },
      "id": "aOOw7cPx8Sx7"
    },
    {
      "cell_type": "code",
      "source": [
        "!conda install conda-forge::fenics-dolfinx"
      ],
      "metadata": {
        "id": "vvTvaCylBl3o"
      },
      "id": "vvTvaCylBl3o",
      "execution_count": null,
      "outputs": []
    },
    {
      "cell_type": "code",
      "source": [
        "!conda env export --from-history"
      ],
      "metadata": {
        "colab": {
          "base_uri": "https://localhost:8080/"
        },
        "id": "oiTkFOra8ZjF",
        "outputId": "22f4c71e-bae6-4d91-8e95-91071d9e4dfe"
      },
      "id": "oiTkFOra8ZjF",
      "execution_count": 10,
      "outputs": [
        {
          "output_type": "stream",
          "name": "stdout",
          "text": [
            "name: base\n",
            "channels:\n",
            "  - conda-forge\n",
            "dependencies:\n",
            "  - python=3.10\n",
            "  - pip\n",
            "  - conda[version='>=23.11.0']\n",
            "  - mamba[version='>=1.5.5']\n",
            "prefix: /usr/local\n"
          ]
        }
      ]
    },
    {
      "cell_type": "code",
      "source": [
        "!conda env export --from-history -f environment.yml\n",
        "!ls"
      ],
      "metadata": {
        "colab": {
          "base_uri": "https://localhost:8080/"
        },
        "id": "BPiU2jg9-4xf",
        "outputId": "4dc0f6b6-622b-43c6-f49c-fa544bde697a"
      },
      "id": "BPiU2jg9-4xf",
      "execution_count": 15,
      "outputs": [
        {
          "output_type": "stream",
          "name": "stdout",
          "text": [
            "condacolab_install.log\tenvironment.yml  sample_data\n"
          ]
        }
      ]
    },
    {
      "cell_type": "markdown",
      "source": [
        "Remember this will export the file to the current working directory.  For simplicity I recommend working in the same directory as your code.  This makes even more sense for example if you have a git repo."
      ],
      "metadata": {
        "id": "OX-gBllV8fgf"
      },
      "id": "OX-gBllV8fgf"
    },
    {
      "cell_type": "markdown",
      "source": [
        "## Exercise 6\n",
        "\n",
        "Now let's practice creating a conda env from file.  I recommend working in the same directory as exercise 5.\n",
        "\n",
        "* Deactivate the `test_env` environment\n",
        "* Remove the `test_env`\n",
        "* Create the conda environment from file"
      ],
      "metadata": {
        "id": "zEjEx9sC8kx3"
      },
      "id": "zEjEx9sC8kx3"
    },
    {
      "cell_type": "code",
      "source": [
        "!conda env create -f environment.yml"
      ],
      "metadata": {
        "colab": {
          "base_uri": "https://localhost:8080/"
        },
        "id": "3jgwZ-it8twR",
        "outputId": "bb4b2fb5-7751-4243-fa0e-0a765f271cdb"
      },
      "id": "3jgwZ-it8twR",
      "execution_count": 14,
      "outputs": [
        {
          "output_type": "stream",
          "name": "stdout",
          "text": [
            "\n",
            "CondaValueError: prefix already exists: /usr/local\n",
            "\n"
          ]
        }
      ]
    },
    {
      "cell_type": "markdown",
      "source": [
        "> This (re)creates `test_env`.\n",
        "\n",
        "* Activate `test_env`\n",
        "* Check what packages are installed."
      ],
      "metadata": {
        "id": "L18Ja0jI80iX"
      },
      "id": "L18Ja0jI80iX"
    },
    {
      "cell_type": "code",
      "source": [
        "!conda env list\n",
        "!ls"
      ],
      "metadata": {
        "id": "l4FQsKO6_-iA",
        "outputId": "9dcbae13-a77a-4adf-88cf-486ae04c2cab",
        "colab": {
          "base_uri": "https://localhost:8080/"
        }
      },
      "id": "l4FQsKO6_-iA",
      "execution_count": 17,
      "outputs": [
        {
          "output_type": "stream",
          "name": "stdout",
          "text": [
            "# conda environments:\n",
            "#\n",
            "base                     /usr/local\n",
            "\n",
            "condacolab_install.log\tenvironment.yml  sample_data\n"
          ]
        }
      ]
    },
    {
      "cell_type": "code",
      "source": [
        "!conda init bash\n",
        "!conda activate test_env\n",
        "!conda list"
      ],
      "metadata": {
        "id": "lVsK1kkZA6vv",
        "outputId": "2d5da990-3a9f-44c8-d826-f03e6a57a21a",
        "colab": {
          "base_uri": "https://localhost:8080/"
        }
      },
      "id": "lVsK1kkZA6vv",
      "execution_count": 21,
      "outputs": [
        {
          "output_type": "stream",
          "name": "stdout",
          "text": [
            "no change     /usr/local/condabin/conda\n",
            "no change     /usr/local/bin/conda\n",
            "no change     /usr/local/bin/conda-env\n",
            "no change     /usr/local/bin/activate\n",
            "no change     /usr/local/bin/deactivate\n",
            "no change     /usr/local/etc/profile.d/conda.sh\n",
            "no change     /usr/local/etc/fish/conf.d/conda.fish\n",
            "no change     /usr/local/shell/condabin/Conda.psm1\n",
            "no change     /usr/local/shell/condabin/conda-hook.ps1\n",
            "no change     /usr/local/lib/python3.10/site-packages/xontrib/conda.xsh\n",
            "no change     /usr/local/etc/profile.d/conda.csh\n",
            "no change     /root/.bashrc\n",
            "No action taken.\n",
            "\n",
            "CondaError: Run 'conda init' before 'conda activate'\n",
            "\n",
            "# packages in environment at /usr/local:\n",
            "#\n",
            "# Name                    Version                   Build  Channel\n",
            "_libgcc_mutex             0.1                 conda_forge    conda-forge\n",
            "_openmp_mutex             4.5                       2_gnu    conda-forge\n",
            "archspec                  0.2.2              pyhd8ed1ab_0    conda-forge\n",
            "boltons                   23.1.1             pyhd8ed1ab_0    conda-forge\n",
            "brotli-python             1.1.0           py310hc6cd4ac_1    conda-forge\n",
            "bzip2                     1.0.8                hd590300_5    conda-forge\n",
            "c-ares                    1.24.0               hd590300_0    conda-forge\n",
            "ca-certificates           2023.11.17           hbcca054_0    conda-forge\n",
            "certifi                   2023.11.17         pyhd8ed1ab_0    conda-forge\n",
            "cffi                      1.16.0          py310h2fee648_0    conda-forge\n",
            "charset-normalizer        3.3.2              pyhd8ed1ab_0    conda-forge\n",
            "colorama                  0.4.6              pyhd8ed1ab_0    conda-forge\n",
            "conda                     23.11.0         py310hff52083_1    conda-forge\n",
            "conda-libmamba-solver     23.12.0            pyhd8ed1ab_0    conda-forge\n",
            "conda-package-handling    2.2.0              pyh38be061_0    conda-forge\n",
            "conda-package-streaming   0.9.0              pyhd8ed1ab_0    conda-forge\n",
            "distro                    1.8.0              pyhd8ed1ab_0    conda-forge\n",
            "fmt                       10.1.1               h00ab1b0_1    conda-forge\n",
            "icu                       73.2                 h59595ed_0    conda-forge\n",
            "idna                      3.6                pyhd8ed1ab_0    conda-forge\n",
            "jsonpatch                 1.33               pyhd8ed1ab_0    conda-forge\n",
            "jsonpointer               2.4             py310hff52083_3    conda-forge\n",
            "keyutils                  1.6.1                h166bdaf_0    conda-forge\n",
            "krb5                      1.21.2               h659d440_0    conda-forge\n",
            "ld_impl_linux-64          2.40                 h41732ed_0    conda-forge\n",
            "libarchive                3.7.2                h2aa1ff5_1    conda-forge\n",
            "libcurl                   8.5.0                hca28451_0    conda-forge\n",
            "libedit                   3.1.20191231         he28a2e2_2    conda-forge\n",
            "libev                     4.33                 hd590300_2    conda-forge\n",
            "libffi                    3.4.2                h7f98852_5    conda-forge\n",
            "libgcc-ng                 13.2.0               h807b86a_3    conda-forge\n",
            "libgomp                   13.2.0               h807b86a_3    conda-forge\n",
            "libiconv                  1.17                 hd590300_2    conda-forge\n",
            "libmamba                  1.5.5                had39da4_0    conda-forge\n",
            "libmambapy                1.5.5           py310h39ff949_0    conda-forge\n",
            "libnghttp2                1.58.0               h47da74e_1    conda-forge\n",
            "libnsl                    2.0.1                hd590300_0    conda-forge\n",
            "libsolv                   0.7.27               hfc55251_0    conda-forge\n",
            "libsqlite                 3.44.2               h2797004_0    conda-forge\n",
            "libssh2                   1.11.0               h0841786_0    conda-forge\n",
            "libstdcxx-ng              13.2.0               h7e041cc_3    conda-forge\n",
            "libuuid                   2.38.1               h0b41bf4_0    conda-forge\n",
            "libxml2                   2.12.3               h232c23b_0    conda-forge\n",
            "libzlib                   1.2.13               hd590300_5    conda-forge\n",
            "lz4-c                     1.9.4                hcb278e6_0    conda-forge\n",
            "lzo                       2.10              h516909a_1000    conda-forge\n",
            "mamba                     1.5.5           py310h51d5547_0    conda-forge\n",
            "menuinst                  2.0.1           py310hff52083_0    conda-forge\n",
            "ncurses                   6.4                  h59595ed_2    conda-forge\n",
            "openssl                   3.2.0                hd590300_1    conda-forge\n",
            "packaging                 23.2               pyhd8ed1ab_0    conda-forge\n",
            "pip                       23.3.2             pyhd8ed1ab_0    conda-forge\n",
            "platformdirs              4.1.0              pyhd8ed1ab_0    conda-forge\n",
            "pluggy                    1.3.0              pyhd8ed1ab_0    conda-forge\n",
            "pybind11-abi              4                    hd8ed1ab_3    conda-forge\n",
            "pycosat                   0.6.6           py310h2372a71_0    conda-forge\n",
            "pycparser                 2.21               pyhd8ed1ab_0    conda-forge\n",
            "pysocks                   1.7.1              pyha2e5f31_6    conda-forge\n",
            "python                    3.10.13         hd12c33a_0_cpython    conda-forge\n",
            "python_abi                3.10                    4_cp310    conda-forge\n",
            "readline                  8.2                  h8228510_1    conda-forge\n",
            "reproc                    14.2.4.post0         hd590300_1    conda-forge\n",
            "reproc-cpp                14.2.4.post0         h59595ed_1    conda-forge\n",
            "requests                  2.31.0             pyhd8ed1ab_0    conda-forge\n",
            "ruamel.yaml               0.18.5          py310h2372a71_0    conda-forge\n",
            "ruamel.yaml.clib          0.2.7           py310h2372a71_2    conda-forge\n",
            "setuptools                68.2.2             pyhd8ed1ab_0    conda-forge\n",
            "tk                        8.6.13          noxft_h4845f30_101    conda-forge\n",
            "tqdm                      4.66.1             pyhd8ed1ab_0    conda-forge\n",
            "truststore                0.8.0              pyhd8ed1ab_0    conda-forge\n",
            "tzdata                    2023c                h71feb2d_0    conda-forge\n",
            "urllib3                   2.1.0              pyhd8ed1ab_0    conda-forge\n",
            "wheel                     0.42.0             pyhd8ed1ab_0    conda-forge\n",
            "xz                        5.2.6                h166bdaf_0    conda-forge\n",
            "yaml-cpp                  0.8.0                h59595ed_0    conda-forge\n",
            "zstandard                 0.22.0          py310h1275a96_0    conda-forge\n",
            "zstd                      1.5.5                hfc55251_0    conda-forge\n"
          ]
        }
      ]
    },
    {
      "cell_type": "code",
      "source": [
        "!conda install conda-forge::fenics-dolfinx"
      ],
      "metadata": {
        "id": "8Y8xv0CFBvFo"
      },
      "id": "8Y8xv0CFBvFo",
      "execution_count": null,
      "outputs": []
    },
    {
      "cell_type": "markdown",
      "source": [],
      "metadata": {
        "id": "0Kwy7-9g8rQk"
      },
      "id": "0Kwy7-9g8rQk"
    },
    {
      "cell_type": "code",
      "source": [
        "import matplotlib.pyplot as plt\n",
        "import pandas as pd\n",
        "import fenics as fe\n",
        "\n",
        "\n",
        "print(\"panda verion:\",pd.__version__)\n",
        "#print(\"fenics version:\",fenics.__version__)\n",
        "print(\"fenics function list :\",dir(fe))"
      ],
      "metadata": {
        "id": "jX_9fiv3DY38"
      },
      "id": "jX_9fiv3DY38",
      "execution_count": null,
      "outputs": []
    },
    {
      "cell_type": "code",
      "source": [
        "!bash"
      ],
      "metadata": {
        "id": "sfTmkZ9BDF_y",
        "outputId": "088e5635-269a-47a7-bf47-773826a25c3d",
        "colab": {
          "base_uri": "https://localhost:8080/"
        }
      },
      "id": "sfTmkZ9BDF_y",
      "execution_count": null,
      "outputs": [
        {
          "output_type": "stream",
          "name": "stdout",
          "text": [
            "bash: cannot set terminal process group (1177): Inappropriate ioctl for device\n",
            "bash: no job control in this shell\n",
            "Error while loading conda entry point: conda-libmamba-solver (module 'libmambapy' has no attribute 'QueryFormat')\n",
            "\u001b[?2004h(base) \u001b[01;34m/content\u001b[00m# conda activate\n",
            "Error while loading conda entry point: conda-libmamba-solver (module 'libmambapy' has no attribute 'QueryFormat')\n",
            "\u001b[?2004h(base) \u001b[01;34m/content\u001b[00m# conda activate test_env\n",
            "Error while loading conda entry point: conda-libmamba-solver (module 'libmambapy' has no attribute 'QueryFormat')\n",
            "\n",
            "EnvironmentNameNotFound: Could not find conda environment: test_env\n",
            "You can list all discoverable environments with `conda info --envs`.\n",
            "\n",
            "\n",
            "\u001b[?2004h(base) \u001b[01;34m/content\u001b[00m# "
          ]
        }
      ]
    }
  ],
  "metadata": {
    "kernelspec": {
      "display_name": "Python 3 (ipykernel)",
      "language": "python",
      "name": "python3"
    },
    "language_info": {
      "codemirror_mode": {
        "name": "ipython",
        "version": 3
      },
      "file_extension": ".py",
      "mimetype": "text/x-python",
      "name": "python",
      "nbconvert_exporter": "python",
      "pygments_lexer": "ipython3",
      "version": "3.8.8"
    },
    "colab": {
      "provenance": [],
      "include_colab_link": true
    }
  },
  "nbformat": 4,
  "nbformat_minor": 5
}